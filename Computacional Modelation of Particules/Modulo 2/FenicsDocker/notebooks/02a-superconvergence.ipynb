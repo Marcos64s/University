{
 "cells": [
  {
   "cell_type": "markdown",
   "metadata": {},
   "source": [
    "# Superconvergence of Pointwise Solutions\n",
    "\n",
    "This notebook demonstrates superconvergence of pointwise solutions."
   ]
  },
  {
   "cell_type": "code",
   "execution_count": null,
   "metadata": {
    "collapsed": true
   },
   "outputs": [],
   "source": [
    "from fenics import *\n",
    "from mshr import *\n",
    "import numpy as np\n",
    "\n",
    "%matplotlib inline"
   ]
  },
  {
   "cell_type": "markdown",
   "metadata": {},
   "source": [
    "First, define helper functions for solving on mesh."
   ]
  },
  {
   "cell_type": "code",
   "execution_count": null,
   "metadata": {
    "collapsed": true
   },
   "outputs": [],
   "source": [
    "def u0_boundary(x, on_boundary):\n",
    "    return on_boundary\n",
    "\n",
    "def solve_on_mesh(mesh, f, g, u_D, \n",
    "                  boundary=u0_boundary, degree=1):\n",
    "    '''\n",
    "    mesh:  1-D, 2-D or 3-D mesh\n",
    "    f:     force function\n",
    "    g:     Neumann boundary condition\n",
    "    u_D:   Dirichlet boundary condition\n",
    "    '''\n",
    "\n",
    "    V = FunctionSpace(mesh, 'P', degree)\n",
    "    u = TrialFunction(V)\n",
    "    v = TestFunction(V)\n",
    "\n",
    "    # Define variational problem\n",
    "    a = dot(grad(u), grad(v))*dx\n",
    "\n",
    "    L = f * v * dx + g * v * ds\n",
    "    bc = DirichletBC(V, u_D, boundary)\n",
    "\n",
    "    # Compute solution\n",
    "    u = Function(V)\n",
    "    solve(a == L, u, bc)\n",
    "    return u\n",
    "    \n",
    "def compute_error(u_D, u, mesh):\n",
    "    '''\n",
    "    computes errors in L_2 and max pointwise norm\n",
    "    '''\n",
    "    # Compute error in L2 norm\n",
    "    error_L2 = errornorm(u_D, u, 'L2')\n",
    "\n",
    "    # Compute maximum error at vertices\n",
    "    vertex_values_u_D = u_D.compute_vertex_values(mesh)\n",
    "    vertex_values_u = u.compute_vertex_values(mesh)\n",
    "\n",
    "    error_max = np.max(np.abs(vertex_values_u_D - vertex_values_u))\n",
    "    \n",
    "    return error_L2, error_max"
   ]
  },
  {
   "cell_type": "markdown",
   "metadata": {},
   "source": [
    "## 1-D Example"
   ]
  },
  {
   "cell_type": "code",
   "execution_count": null,
   "metadata": {},
   "outputs": [],
   "source": [
    "f = Expression('-56 * pow(x[0], 6)', degree=8)\n",
    "u_D = Expression('pow(x[0], 8)', degree=6)\n",
    "g = Constant(0)\n",
    "\n",
    "errors_L2 = []\n",
    "errors_max = []\n",
    "\n",
    "for n in [8, 16, 32]:\n",
    "    mesh = UnitIntervalMesh(n)\n",
    "    \n",
    "    u = solve_on_mesh(mesh, f, g, u_D, degree=1)\n",
    "    error_L2, error_max = compute_error(u_D, u, mesh)\n",
    "    \n",
    "    errors_L2.append(error_L2)\n",
    "    errors_max.append(error_max)\n",
    "    \n",
    "# Print errors\n",
    "print('error_L2  =', errors_L2)\n",
    "print('convergence rate in L2 = ', np.log2(np.divide(errors_L2[0:2], errors_L2[1:3])))\n",
    "print('error_max =', errors_max)\n",
    "print('convergence rate in max = ', np.log2(np.divide(errors_max[0:2], errors_max[1:3])))"
   ]
  },
  {
   "cell_type": "markdown",
   "metadata": {
    "collapsed": true
   },
   "source": [
    "## 2-D Example"
   ]
  },
  {
   "cell_type": "code",
   "execution_count": null,
   "metadata": {},
   "outputs": [],
   "source": [
    "domain = Rectangle(Point(0,0), Point(1,1))\n",
    "\n",
    "f = Expression('-12 * x[0] * x[1]', degree=2)\n",
    "u_D = Expression('pow(x[0], 3)*x[1] + x[0]*pow(x[1], 3)', degree=4)\n",
    "\n",
    "errors_L2 = []\n",
    "errors_max = []\n",
    "\n",
    "for n in [8, 16, 32]:\n",
    "    mesh = UnitSquareMesh(n, n)\n",
    "\n",
    "    u = solve_on_mesh(mesh, f, g, u_D, degree=1)\n",
    "    error_L2, error_max = compute_error(u_D, u, mesh)\n",
    "    \n",
    "    if n == 8:\n",
    "        plot(u)\n",
    "        plot(mesh)\n",
    "\n",
    "    errors_L2.append(error_L2)\n",
    "    errors_max.append(error_max)\n",
    "    \n",
    "# Print errors\n",
    "print('error_L2  =', errors_L2)\n",
    "print('convergence rate in L2 = ', np.log2(np.divide(errors_L2[0:2], errors_L2[1:3])))\n",
    "print('error_max =', errors_max)\n",
    "print('convergence rate in max = ', np.log2(np.divide(errors_max[0:2], errors_max[1:3])))"
   ]
  },
  {
   "cell_type": "code",
   "execution_count": null,
   "metadata": {
    "collapsed": true
   },
   "outputs": [],
   "source": []
  }
 ],
 "metadata": {
  "kernelspec": {
   "display_name": "Python 3",
   "language": "python",
   "name": "python3"
  },
  "language_info": {
   "codemirror_mode": {
    "name": "ipython",
    "version": 3
   },
   "file_extension": ".py",
   "mimetype": "text/x-python",
   "name": "python",
   "nbconvert_exporter": "python",
   "pygments_lexer": "ipython3",
   "version": "3.6.8"
  },
  "latex_envs": {
   "LaTeX_envs_menu_present": true,
   "autoclose": false,
   "autocomplete": true,
   "bibliofile": "biblio.bib",
   "cite_by": "apalike",
   "current_citInitial": 1,
   "eqLabelWithNumbers": true,
   "eqNumInitial": 1,
   "hotkeys": {
    "equation": "Ctrl-E",
    "itemize": "Ctrl-I"
   },
   "labels_anchors": false,
   "latex_user_defs": false,
   "report_style_numbering": false,
   "user_envs_cfg": false
  }
 },
 "nbformat": 4,
 "nbformat_minor": 2
}
