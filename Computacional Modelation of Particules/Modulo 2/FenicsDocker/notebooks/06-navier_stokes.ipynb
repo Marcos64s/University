{
 "cells": [
  {
   "cell_type": "markdown",
   "metadata": {},
   "source": [
    "# The Navier-Stokes equations\n",
    "\n",
    "In this example, we will consider the incompressible Navier--Stokes\n",
    "equations. This is one of the most fundamental equation in computational \n",
    "fluid dynamics. This problem combines many of the challenges from our\n",
    "previously studied problems: time-dependence, nonlinearity, and\n",
    "vector-valued variables. We will consider how to solve such \n",
    "a complex problem using FEniCS."
   ]
  },
  {
   "cell_type": "markdown",
   "metadata": {},
   "source": [
    "## PDE problem\n",
    "\n",
    "The incompressible Navier--Stokes equations form a system of equations\n",
    "for the velocity $\\boldsymbol{u}$ and pressure $p$ in an incompressible fluid:\n",
    "\n",
    "\\begin{align}\n",
    "  \\label{eq-ns-continuity}\n",
    "\\rho\\left(\\dot{\\boldsymbol{u}}+\\boldsymbol{u}\\cdot\\boldsymbol{\\nabla}\\boldsymbol{u}\\right) & =\\boldsymbol{\\nabla}\\cdot\\boldsymbol{\\sigma}(\\boldsymbol{u},p)+\\boldsymbol{f},\\\\\n",
    "  \\label{eq-ns-momentum}\n",
    "  \\boldsymbol{\\nabla} \\cdot \\boldsymbol{u} &= 0,\n",
    "\\end{align}\n",
    "\n",
    "where $\\dot{\\boldsymbol{u}}$ denotes $\\partial\\boldsymbol{u}/\\partial t$, the acceleration, and \n",
    "$\\boldsymbol{u} \\cdot \\boldsymbol{\\nabla}\\boldsymbol{u}$ denotes a vector\n",
    "$\\boldsymbol{w}$ with elements\n",
    "$$w_i = \\sum_j \\left(u_j \\dfrac{\\partial}{\\partial x_j}\\right) u_i\n",
    "= \\sum_j u_j \\dfrac{\\partial u_i}{\\partial x_j}.$$\n",
    "\n",
    "The above two equations are referred to as *momentum equation* and *continuity equation*, respectively. \n",
    "The right-hand side $\\boldsymbol{f}$ of (\\ref{eq-ns-momentum}) is a given force per unit volume and\n",
    "just as for the equations of linear elasticity,\n",
    "$\\boldsymbol{\\sigma}(\\boldsymbol{u}, p)$ denotes the stress tensor, which for a Newtonian fluid\n",
    "is given by\n",
    "\\begin{equation}\n",
    "  \\boldsymbol{\\sigma}(\\boldsymbol{u}, p) = 2\\mu\\boldsymbol{\\epsilon}(\\boldsymbol{u}) - p\\boldsymbol{I},\n",
    "\\end{equation}\n",
    "where $\\boldsymbol{\\epsilon}(\\boldsymbol{u})$ is the strain-rate tensor\n",
    "\n",
    "$$ \\boldsymbol{\\epsilon}(\\boldsymbol{u}) = \\frac{1}{2}\\left(\\boldsymbol{\\nabla} \\boldsymbol{u} + (\\boldsymbol{\\nabla} \\boldsymbol{u})^T\\right).$$\n",
    "\n",
    "The parameter $\\mu$ is the dynamic viscosity. Note that the momentum\n",
    "equation (\\ref{eq-ns-momentum}) is very similar to the elasticity\n",
    "equation. The difference is in the\n",
    "two additional terms $\\rho(\\dot{\\boldsymbol{u}} + \\boldsymbol{u} \\cdot \\boldsymbol{\\nabla} \\boldsymbol{u})$ and the different\n",
    "expression for the stress tensor. The two extra terms express the\n",
    "acceleration balanced by the force $\\boldsymbol{F} = \\boldsymbol{\\nabla}\\cdot\\boldsymbol{\\sigma} + \\boldsymbol{f}$ per unit volume in Newton's second law of motion."
   ]
  },
  {
   "cell_type": "markdown",
   "metadata": {},
   "source": [
    "## Variational formulation\n",
    "\n",
    "To derive the variaitonal form, we introduce a *vector* test function\n",
    "$\\boldsymbol{v}\\in \\boldsymbol{\\mathcal{V}}$, where $\\boldsymbol{\\mathcal{V}}$ is a vector-valued test function space,\n",
    "just as for the elasticity problem.\n",
    "For conciseness, we will use the short-hand notation\n",
    "$$\n",
    "  \\langle \\boldsymbol{v}, \\boldsymbol{w}\\rangle = \\int_{\\Omega} \\boldsymbol{v}\\cdot\\boldsymbol{w}\\ \\mathrm{d}\\boldsymbol{x}, \\quad\n",
    "  \\langle \\boldsymbol{v}, \\boldsymbol{w}\\rangle_{\\partial\\Omega} = \\int_{\\partial\\Omega} \\boldsymbol{v}\\cdot\\boldsymbol{w}\\ \\mathrm{d}\\boldsymbol{s},\n",
    "$$\n",
    "where $\\mathrm{d}\\boldsymbol{x}$ and $\\mathrm{d}\\boldsymbol{s}$ denote the volume and surface measures, respectively.\n",
    "\n",
    "Let us first consider the momentum equation. The variational form is\n",
    "$$\n",
    "\\langle\\rho\\left(\\dot{\\boldsymbol{u}}+\\boldsymbol{u}\\cdot\\boldsymbol{\\nabla}\\boldsymbol{u}\\right),\\boldsymbol{v}\\rangle=\\langle\\boldsymbol{\\nabla}\\cdot\\boldsymbol{\\sigma}(\\boldsymbol{u},p),\\boldsymbol{v}\\rangle+\\langle\\boldsymbol{f},\\boldsymbol{v}\\rangle.\n",
    "$$\n",
    "Using integration by parts and the fact that $\\boldsymbol{\\sigma}$ is a symmetric tensor, we obtain\n",
    "$$\n",
    "\\langle-\\boldsymbol{\\nabla}\\cdot\\boldsymbol{\\sigma},\\boldsymbol{v}\\rangle=\\langle\\boldsymbol{\\sigma},\\boldsymbol{\\epsilon}(\\boldsymbol{v})\\rangle-\\langle\\boldsymbol{T},\\boldsymbol{v}\\rangle_{\\partial\\Omega},\n",
    "$$\n",
    "where $\\boldsymbol{T} = \\boldsymbol{\\sigma}(\\boldsymbol{u}, p)\\cdot \\boldsymbol{n}$ is the boundary traction. Therefore, \n",
    "\n",
    "\\begin{equation}\n",
    "\\label{eq-navier_stokes-momment-varform}\n",
    "\\langle\\rho\\dot{\\boldsymbol{u}},\\boldsymbol{v}\\rangle+\\langle\\rho\\boldsymbol{u}\\cdot\\boldsymbol{\\nabla}\\boldsymbol{u},\\boldsymbol{v}\\rangle=-\\langle\\boldsymbol{\\sigma},\\boldsymbol{\\epsilon}(\\boldsymbol{v})\\rangle+\\langle\\boldsymbol{T},\\boldsymbol{v}\\rangle_{\\partial\\Omega}+\\langle\\boldsymbol{f},\\boldsymbol{v}\\rangle.\n",
    "\\end{equation}\n",
    "\n",
    "It is clear that this problem is nonlinear in $\\boldsymbol{u}$. If\n",
    "we solve it directly, just as in the case of heat equations, we\n",
    "will need to solve a nonlinear equation, and the resulting linear\n",
    "system will have a so-called *saddle point structure* and \n",
    "requires special techniques (special preconditioners and iterative methods) \n",
    "to be solved efficiently. Instead, we will apply a simpler and often \n",
    "very efficient approach, known as a *splitting method*. "
   ]
  },
  {
   "cell_type": "markdown",
   "metadata": {},
   "source": [
    "### Splitting methods\n",
    "\n",
    "The idea of the splitting methods is to\n",
    "consider the two equations (\\ref{eq-ns-momentum}) and\n",
    "(\\ref{eq-ns-continuity}) separately. There exist many splitting\n",
    "strategies for the incompressible Navier--Stokes equations. One of the\n",
    "oldest is the method proposed by Chorin <!--\\cite{Chorin1968}--> and\n",
    "Temam, <!--\\cite{Temam1969}--> often referred to as *Chorin's method*. We will\n",
    "use a modified version of Chorin's method, the so-called incremental\n",
    "pressure correction scheme (IPCS), <!--due to \\cite{Goda1979}--> which gives\n",
    "improved accuracy compared to the original scheme at little extra\n",
    "cost. The IPCS scheme involves three steps, which we will address them one by one."
   ]
  },
  {
   "cell_type": "markdown",
   "metadata": {},
   "source": [
    "#### Step 1: solving the momentum equation\n",
    "\n",
    "First, we compute an *intermediate\n",
    "velocity* $\\tilde{\\boldsymbol{u}}$ by advancing the momentum equation\n",
    "(\\ref{eq-ns-momentum}) by a midpoint finite difference scheme in\n",
    "time, but using the pressure $p_{k}$ from the\n",
    "previous time interval. We will also linearize the nonlinear convective\n",
    "term by using the known velocity $\\boldsymbol{u}_{k}$ from the previous time step:\n",
    "$\\boldsymbol{u}_{k}\\cdot\\boldsymbol{\\nabla} \\boldsymbol{u}_{k}$, where \n",
    "$k$ denote the index of the time step.\n",
    "\n",
    "The variational problem (\\ref{eq-navier_stokes-momment-varform}) is then approximated as\n",
    "\\begin{align}\n",
    "\\langle\\rho(\\tilde{\\boldsymbol{u}}-\\boldsymbol{u}_{k})/\\Delta t,\\boldsymbol{v}\\rangle+\\langle\\rho\\boldsymbol{u}_{k}\\cdot\\boldsymbol{\\nabla}\\boldsymbol{u}_{k},\\boldsymbol{v}\\rangle & =\\nonumber\\\\\n",
    "-\\langle\\boldsymbol{\\sigma}(\\boldsymbol{u}_{k+\\frac{1}{2}},p_{k}),\\boldsymbol{\\epsilon}(\\boldsymbol{v})\\rangle+\\langle\\boldsymbol{\\sigma}(\\boldsymbol{u}_{k+\\frac{1}{2}},p_{k})\\cdot\\boldsymbol{n},\\boldsymbol{v}\\rangle_{\\partial\\Omega}+\\langle\\boldsymbol{f}_{k+1},\\boldsymbol{v}\\rangle & ,\n",
    "\\label{eq-ftut1-ipcs1}\n",
    "\\end{align}\n",
    "\n",
    "Here, we use $\\boldsymbol{u}_{k+\\frac{1}{2}}$\n",
    "to denote the value of $\\boldsymbol{u}$ at the midpoint of the time interval, \n",
    "usually approximated by an arithmetic mean:\n",
    "$$\n",
    "\\boldsymbol{u}_{k+\\frac{1}{2}} \\approx \\frac{1}{2}(\\boldsymbol{u}_k + \\tilde{\\boldsymbol{u}}),\n",
    "$$\n",
    "where $\\tilde{\\boldsymbol{u}}$ serves as $\\boldsymbol{u}_{k+1}$.\n",
    "This problem is now linear in $\\tilde{\\boldsymbol{u}}$."
   ]
  },
  {
   "cell_type": "markdown",
   "metadata": {},
   "source": [
    "If we solve a problem with a free boundary, we can take $T = 0$ on the\n",
    "boundary. However, if we compute the flow through a channel or a pipe\n",
    "and want to model flow that continues into an \"imaginary channel\" at\n",
    "the outflow, we need to treat this term with some care. We will take\n",
    "the assumption that the derivative of the velocity in the direction\n",
    "of the channel is zero at the outflow, corresponding to a flow that is\n",
    "\"fully developed\" or doesn't change significantly downstream of the\n",
    "outflow. Doing so, the remaining boundary term at the outflow becomes\n",
    "$p\\boldsymbol{n} - \\mu\\boldsymbol{\\nabla} \\boldsymbol{u} \\cdot \\boldsymbol{n}$. We then have the following simplified form:\n",
    "\n",
    "\\begin{align}\n",
    "\\langle\\rho(\\tilde{\\boldsymbol{u}}-\\boldsymbol{u}_{k})/\\Delta t,\\boldsymbol{v}\\rangle+\\langle\\rho\\boldsymbol{u}_{k}\\cdot\\boldsymbol{\\nabla}\\boldsymbol{u}_{k},\\boldsymbol{v}\\rangle & =\\nonumber\\\\\n",
    "-\\langle\\boldsymbol{\\sigma}(\\boldsymbol{u}_{k+\\frac{1}{2}},p_{k}),\\boldsymbol{\\epsilon}(\\boldsymbol{v})\\rangle-\\langle p_{k}\\boldsymbol{n},\\boldsymbol{v}\\rangle_{\\partial\\Omega}+\\langle\\mu\\boldsymbol{\\nabla}\\boldsymbol{u}_{k+\\frac{1}{2}}\\cdot\\boldsymbol{n},\\boldsymbol{v}\\rangle_{\\partial\\Omega}+\\langle\\boldsymbol{f}_{k+1},\\boldsymbol{v}\\rangle & .\n",
    "\\end{align}"
   ]
  },
  {
   "cell_type": "markdown",
   "metadata": {},
   "source": [
    "#### Step 2: computing the pressue\n",
    "\n",
    "We may now use the computed intermediate velocity to\n",
    "$\\tilde{\\boldsymbol{u}}$ obtained from step 1 to compute the \n",
    "new pressure $p_{k+1}$.\n",
    "\n",
    "One way to think about this step is to subtract the Navier--Stokes\n",
    "momentum equation (\\ref{eq-ns-momentum}) expressed in terms of the\n",
    "intermediate velocity $\\tilde{\\boldsymbol{u}}$ and the pressure $p_k$ from the\n",
    "momentum equation expressed in terms of the velocity $\\boldsymbol{u}_{k+1}$ and\n",
    "pressure $p_{k+1}$. This results in the equation\n",
    "\n",
    "\\begin{equation} \\label{eq-ftut1-ipcs-step}\n",
    "  (\\boldsymbol{u}_{k+1} - \\tilde{\\boldsymbol{u}}) / \\Delta t + \\boldsymbol{\\nabla} p_{k+1} - \\boldsymbol{\\nabla} p_k = 0.\n",
    "\\end{equation}\n",
    "\n",
    "Taking the divergence and requiring that $\\boldsymbol{\\nabla} \\cdot \\boldsymbol{u}_{k+1} = 0$ by the\n",
    "Navier--Stokes continuity equation (\\ref{eq-ns-continuity}), we\n",
    "obtain the equation $$-\\boldsymbol{\\nabla}\\cdot \\tilde{\\boldsymbol{u}} / \\Delta t + \\boldsymbol{\\nabla}^2 p_{k+1} -\n",
    "\\boldsymbol{\\nabla}^2 p_k = 0,$$ \n",
    "which is a Poisson problem for the pressure $p^{k+1}$\n",
    "resulting in the variational problem:\n",
    "\n",
    "\\begin{equation}\n",
    "\\label{eq-ftut1-ipcs2}\n",
    "  \\langle \\boldsymbol{\\nabla} p_{k+1}, \\boldsymbol{\\nabla} q \\rangle\n",
    "  = \\langle \\boldsymbol{\\nabla} p_{k}, \\boldsymbol{\\nabla} q \\rangle\n",
    "  -  \\langle \\boldsymbol{\\nabla} \\cdot \\tilde{\\boldsymbol{u}}, q \\rangle/\\Delta t.\n",
    "\\end{equation}\n",
    "\n",
    "Note here $q$ is a scalar-valued test function from the pressure\n",
    "space, whereas the test function $\\boldsymbol{v}$ in (\\ref{eq-ftut1-ipcs1}) is a\n",
    "vector-valued test function from the velocity space.\n",
    "\n"
   ]
  },
  {
   "cell_type": "markdown",
   "metadata": {},
   "source": [
    "#### Step 3: correcting the volocity\n",
    "\n",
    "Finally, we compute the corrected velocity $\\boldsymbol{u}_{k+1}$ from the equation\n",
    "(\\ref{eq-ftut1-ipcs-step}). Multiplying this equation by a test function\n",
    "$v$, we obtain\n",
    "\n",
    "\\begin{equation}\n",
    "\\label{eq-ftut1-ipcs3}\n",
    "\\langle\\boldsymbol{u}_{k+1},\\boldsymbol{v\\rangle=\\langle\\boldsymbol{u}_{k+1},\\boldsymbol{v}\\rangle-\\Delta t\\langle\\boldsymbol{\\nabla}(p^{n+1}-p^{n}),\\boldsymbol{v}\\rangle.}\n",
    "\\end{equation}\n",
    "\n",
    "In summary, we may thus solve the incompressible Navier--Stokes\n",
    "equations efficiently by solving a sequence of three linear variational\n",
    "problems in each time step."
   ]
  },
  {
   "cell_type": "markdown",
   "metadata": {},
   "source": [
    "## FEniCS implementation\n",
    "\n",
    "## Test problem: channel flow in 2-D\n",
    "\n",
    "<!--idx{channel flow}-->\n",
    "\n",
    "As a first test problem, we compute the flow between two infinite\n",
    "plates, so-called channel or Poiseuille flow. As we shall see, this\n",
    "problem has a known analytical solution. Let $H$ be the distance\n",
    "between the plates and $L$ the length of the channel. There are no\n",
    "body forces.\n",
    "\n",
    "<!--idx{scaling}-->\n",
    "\n",
    "### Scaling\n",
    "We may scale the problem first to get rid of seemingly independent\n",
    "physical parameters. The physics of this problem is governed by\n",
    "viscous effects only, in the direction perpendicular to the flow, so a\n",
    "time scale should be based on diffusion across the channel: $t_c =\n",
    "H^2/\\nu$. We let $U$, some characteristic inflow velocity, be the\n",
    "velocity scale and $H$ the spatial scale. The pressure scale is taken\n",
    "as the characteristic shear stress, $\\mu U/H$, since this is a primary\n",
    "example of shear flow.  Inserting $\\bar x = x/H$, $\\bar y = y/H$,\n",
    "$\\bar z = z/H$, $\\bar u =u/U$, $\\bar p = Hp/(\\mu U)$, and $\\bar t =\n",
    "H^2/\\nu$ in the equations results in the scaled Navier--Stokes\n",
    "equations (dropping bars after the scaling):\n",
    "\n",
    "<!--idx{Reynolds number}-->\n",
    "\n",
    "\\begin{align*}\n",
    "\\frac{\\partial u}{\\partial t} + \\mathrm{Re}\\, u\\cdot\\nabla u\n",
    "&= -\\nabla p + \\nabla^2 u,\\\\\n",
    "\\nabla\\cdot u &= 0.\n",
    "\\end{align*}\n",
    "\n",
    "Here, $\\mathrm{Re} = \\varrho UH/\\mu$ is the *Reynolds number*. Because\n",
    "of the time and pressure scales, which are different from\n",
    "convection-dominated fluid flow, the Reynolds number is associated\n",
    "with the convective term and not the viscosity term.\n",
    "\n",
    "For a specific engineering problem one wants to simulate a specific\n",
    "fluid and set corresponding parameters. A general solver is therefore\n",
    "most naturally implemented with dimensions and the original physical\n",
    "parameters. However, scaling may greatly simplify numerical\n",
    "simulations. First of all, it shows that all fluids behave in the\n",
    "same way: it does not matter whether we have oil, gas, or water\n",
    "flowing between two plates, and it does not matter how fast the flow\n",
    "is (up to some criticial value of the Reynolds number where the flow\n",
    "becomes unstable and transitions to a complicated turbulent flow of\n",
    "totally different nature). This means that one simulation is enough\n",
    "to cover all types of channel flow! In other applications, scaling\n",
    "shows that it might be necessary to set just the fraction of some\n",
    "parameters (dimensionless numbers) rather than the parameters\n",
    "themselves. This simplifies exploring the input parameter space which\n",
    "is often the purpose of simulation. Frequently, the scaled problem is\n",
    "run by setting some of the input parameters with dimension to fixed\n",
    "values (often unity).\n",
    "\n",
    "### Boundary conditions\n",
    "The boundary conditions can be set as $p=8$ at $x=0$, $p=0$ at $x=1$\n",
    "and $u=(0, 0, 0)$ on the walls $y=0,1$. This defines the pressure drop\n",
    "and should result in unit maximum velocity at the inlet and outlet and\n",
    "a parabolic velocity profile without further specifications. Note that\n",
    "it is only meaningful to solve the Navier--Stokes equations in 2D or\n",
    "3D geometries, although the underlying mathematical problem collapses\n",
    "to two 1D problems, one for $u_x(y)$ and one for $p(x)$.\n",
    "\n",
    "The scaled model is not so easy to simulate using a standard\n",
    "Navier--Stokes solver with dimensions. However, one can argue that the\n",
    "convection term is zero, so the Re coefficient in front of this term\n",
    "in the scaled PDEs is not important and can be set to unity. In that\n",
    "case, setting $\\varrho = \\mu = 1$ in the original Navier--Stokes equations\n",
    "resembles the scaled model."
   ]
  },
  {
   "cell_type": "markdown",
   "metadata": {},
   "source": [
    "### FEniCS implementation\n",
    "\n",
    "We now describe the complete implementation of the solver in FEniCS."
   ]
  },
  {
   "cell_type": "markdown",
   "metadata": {},
   "source": [
    "### Import packages\n",
    "\n",
    "We start by importing fenics and enforcing matplotlib."
   ]
  },
  {
   "cell_type": "code",
   "execution_count": 1,
   "metadata": {
    "collapsed": true
   },
   "outputs": [],
   "source": [
    "from fenics import *\n",
    "import numpy as np\n",
    "\n",
    "%matplotlib inline"
   ]
  },
  {
   "cell_type": "markdown",
   "metadata": {},
   "source": [
    "### Generate the mesh and define function spaces\n",
    "\n",
    "Our previous examples have all started out with the creation of a mesh\n",
    "and then the definition of a `FunctionSpace` on the mesh."
   ]
  },
  {
   "cell_type": "code",
   "execution_count": 2,
   "metadata": {},
   "outputs": [
    {
     "data": {
      "text/plain": [
       "[<matplotlib.lines.Line2D at 0x7fadf8f01ef0>,\n",
       " <matplotlib.lines.Line2D at 0x7fae3060b358>]"
      ]
     },
     "execution_count": 2,
     "metadata": {},
     "output_type": "execute_result"
    },
    {
     "data": {
      "image/png": "[encoded data removed]",
      "text/plain": [
       "<matplotlib.figure.Figure at 0x7fadf91f2400>"
      ]
     },
     "metadata": {},
     "output_type": "display_data"
    }
   ],
   "source": [
    "# Create mesh and define function spaces\n",
    "mesh = UnitSquareMesh(16, 16)\n",
    "plot(mesh)"
   ]
  },
  {
   "cell_type": "markdown",
   "metadata": {},
   "source": [
    "For the Navier--Stokes splitting scheme we will need to define two function\n",
    "spaces, one for the velocity and one for the pressure. One use one-degree\n",
    "higher for velocity than pressure:"
   ]
  },
  {
   "cell_type": "code",
   "execution_count": 3,
   "metadata": {},
   "outputs": [
    {
     "name": "stdout",
     "output_type": "stream",
     "text": [
      "Calling FFC just-in-time (JIT) compiler, this may take some time.\n",
      "Calling FFC just-in-time (JIT) compiler, this may take some time.\n",
      "Calling FFC just-in-time (JIT) compiler, this may take some time.\n"
     ]
    }
   ],
   "source": [
    "V = VectorFunctionSpace(mesh, 'P', 2)\n",
    "Q = FunctionSpace(mesh, 'P', 1)"
   ]
  },
  {
   "cell_type": "markdown",
   "metadata": {},
   "source": [
    "The first space `V` is a vector-valued function space for the velocity and the second space `Q` is a scalar-valued function space for the pressure. We use piecewise quadratic elements for the velocity and piecewise linear elements for the pressure. \n",
    "\n",
    "When creating a `VectorFunctionSpace` in FEniCS, the value-dimension (the length of the vectors) will be set equal to the geometric dimension of the finite element mesh. One can easily create vector-valued function spaces with other dimensions in FEniCS by adding the keyword parameter dim. For example,\n",
    "```\n",
    "V = VectorFunctionSpace(mesh, 'P', 2, dim=10)\n",
    "\n",
    "```"
   ]
  },
  {
   "cell_type": "markdown",
   "metadata": {},
   "source": [
    "**Note on stability of finite element spaces for the Navier–Stokes equations.** It is well-known that certain finite element spaces are not *stable* for the Navier–Stokes equations, or even for the simpler Stokes equations. The prime example of an unstable pair of finite element spaces is to use first degree continuous piecewise polynomials for both the velocity and the pressure. Using an unstable pair of spaces typically results in a solution with *spurious* (unwanted, non-physical) oscillations in the pressure solution. The simple remedy is to use continuous piecewise quadratic elements for the velocity and continuous piecewise linear elements for the pressure. Together, these elements form the so-called *Taylor-Hood* element. Spurious oscillations may occur also for splitting methods if an unstable element pair is used."
   ]
  },
  {
   "cell_type": "markdown",
   "metadata": {},
   "source": [
    "Since we have two different function spaces, we need to create two sets of trial and test functions:"
   ]
  },
  {
   "cell_type": "code",
   "execution_count": 4,
   "metadata": {
    "collapsed": true
   },
   "outputs": [],
   "source": [
    "# Define trial and test functions\n",
    "u = TrialFunction(V)\n",
    "v = TestFunction(V)\n",
    "p = TrialFunction(Q)\n",
    "q = TestFunction(Q)"
   ]
  },
  {
   "cell_type": "markdown",
   "metadata": {},
   "source": [
    "### Specify parameters\n",
    "\n",
    "We specify material properties and time steps."
   ]
  },
  {
   "cell_type": "code",
   "execution_count": 5,
   "metadata": {
    "collapsed": true
   },
   "outputs": [],
   "source": [
    "rho = 1            # density\n",
    "mu = 1             # kinematic viscosity\n",
    "\n",
    "T = 10.0           # final time\n",
    "num_steps = 500    # number of time steps\n",
    "dt = T / num_steps # time step size"
   ]
  },
  {
   "cell_type": "markdown",
   "metadata": {},
   "source": [
    "### Define boundary conditions\n",
    "\n",
    "Boundaries may be defined in FEniCS by defining Python functions that return `True` or `False` depending on whether a point should be considered part of the boundary, such as \n",
    "```\n",
    "def boundary(x, on_boundary):\n",
    "    return near(x[0], 0)\n",
    "```\n",
    "This function defines the boundary to be all points with $x$-coordinate equal to (near) zero. The `near` function comes from FEniCS and performs a test with tolerance: `abs(x[0] - 0) < 3E-16` so we do not run into rounding troubles.\n",
    "A more efficient way is to give the boundary definition as a string of C++ code, so that the checking of which nodes belong to the boundary is performed in compiled C++ code. This can be done using the string\n",
    "```\n",
    "boundary = 'near(x[0], 0)'\n",
    "```\n",
    "\n",
    "For the current example, we will set three different boundary\n",
    "conditions. First, we will set $u = 0$ at the walls of the channel;\n",
    "that is, at $y = 0$ and $y = 1$. Second, we will set $p = 8$ at the\n",
    "inflow ($x = 0$) and, finally, $p = 0$ at the outflow ($x = 1$). This\n",
    "will result in a pressure gradient that will accelerate the flow from\n",
    "the initial state with zero velocity. These boundary conditions may be\n",
    "defined as follows:"
   ]
  },
  {
   "cell_type": "code",
   "execution_count": 6,
   "metadata": {},
   "outputs": [
    {
     "name": "stderr",
     "output_type": "stream",
     "text": [
      "--- Instant: compiling ---\n",
      "--- Instant: compiling ---\n",
      "--- Instant: compiling ---\n"
     ]
    }
   ],
   "source": [
    "inflow   = 'near(x[0], 0)'\n",
    "outflow  = 'near(x[0], 1)'\n",
    "walls    = 'near(x[1], 0) || near(x[1], 1)'\n",
    "\n",
    "# Define boundary conditions\n",
    "bcu_noslip  = DirichletBC(V, Constant((0, 0)), walls)\n",
    "bcp_inflow  = DirichletBC(Q, Constant(8), inflow)\n",
    "bcp_outflow = DirichletBC(Q, Constant(0), outflow)"
   ]
  },
  {
   "cell_type": "markdown",
   "metadata": {},
   "source": [
    "At the end, we collect the boundary conditions for the velocity and\n",
    "pressure in Python lists so we can easily access them in the\n",
    "following computation."
   ]
  },
  {
   "cell_type": "code",
   "execution_count": 7,
   "metadata": {
    "collapsed": true
   },
   "outputs": [],
   "source": [
    "bcu = [bcu_noslip]\n",
    "bcp = [bcp_inflow, bcp_outflow]"
   ]
  },
  {
   "cell_type": "markdown",
   "metadata": {},
   "source": [
    "### Define the variational problems\n",
    "\n",
    "We now move on to the definition of the variational forms. There are three variational problems to be defined, one for each step in the IPCS scheme. Let us look at the definition of the first variational problem. We start with some constants:"
   ]
  },
  {
   "cell_type": "code",
   "execution_count": 8,
   "metadata": {
    "collapsed": true
   },
   "outputs": [],
   "source": [
    "# Define expressions used in variational forms\n",
    "f   = Constant((0, 0))\n",
    "mu  = Constant(mu)\n",
    "rho = Constant(rho)"
   ]
  },
  {
   "cell_type": "markdown",
   "metadata": {},
   "source": [
    "There is an important detail in how we use parameters\n",
    "such as the time step `dt` in the definition here. Since we \n",
    "might want to change these later, for example if we want to \n",
    "experiment with smaller or larger time steps, we wrap these\n",
    "using a FEniCS `Constant`:"
   ]
  },
  {
   "cell_type": "code",
   "execution_count": 9,
   "metadata": {
    "collapsed": true
   },
   "outputs": [],
   "source": [
    "DT  = Constant(dt)"
   ]
  },
  {
   "cell_type": "markdown",
   "metadata": {},
   "source": [
    "The assembly of matrices and vectors in FEniCS is based on code\n",
    "generation. This means that whenever we change a variational problem,\n",
    "FEniCS will have to generate new code, which may take a little\n",
    "time. New code will also be generated and compiled when a float value\n",
    "for the time step is changed. By wrapping this parameter using\n",
    "`Constant`, FEniCS will treat the parameter as a generic constant and\n",
    "not as a specific numerical value, which prevents repeated code\n",
    "generation. In the case of the time step, we choose a new name `dT`\n",
    "instead of `dt` for the `Constant` since we also want to use the\n",
    "variable `dt` as a Python float as part of the time-stepping."
   ]
  },
  {
   "cell_type": "markdown",
   "metadata": {},
   "source": [
    "#### Defnine variational problem for step 1\n",
    "\n",
    "We now set up the variational form for the first step\n",
    "(\\ref{eq:ftut1:ipcs1}) in the solution process. Since the variational\n",
    "problem contains a mix of known and unknown quantities we will use the\n",
    "following naming convention: \n",
    " - `u` is the unknown (mathematically $u_{k+1}$) as a trial function in the variational form, \n",
    " - `u_` is the most recently computed approximation ($u_{k+1}$ available as a `Function` object), \n",
    " - `u_k` is $u_k$, also a `Function` object.\n",
    "\n",
    "The same convention goes for `p`, `p_` ($p_{k+1}$), and `p_k` ($p_k$)."
   ]
  },
  {
   "cell_type": "code",
   "execution_count": 10,
   "metadata": {
    "collapsed": true
   },
   "outputs": [],
   "source": [
    "# Define strain-rate tensor\n",
    "def epsilon(u):\n",
    "    return sym(nabla_grad(u))\n",
    "\n",
    "# Define stress tensor\n",
    "def sigma(u, p):\n",
    "    return 2*mu*epsilon(u) - p*Identity(len(u))\n",
    "\n",
    "# Define functions for solutions at previous and current time steps\n",
    "u_k = Function(V)\n",
    "u_  = Function(V)\n",
    "\n",
    "p_k = Function(Q)\n",
    "p_  = Function(Q)\n",
    "\n",
    "u_mid   = 0.5*(u_k + u)\n",
    "n = FacetNormal(mesh)\n",
    "\n",
    "# Define variational problem for step 1\n",
    "F1 = rho*dot((u - u_k) / DT, v)*dx + \\\n",
    "     rho*dot(dot(u_k, nabla_grad(u_k)), v)*dx \\\n",
    "   + inner(sigma(u_mid, p_k), epsilon(v))*dx \\\n",
    "   + dot(p_k*n, v)*ds - dot(mu*nabla_grad(u_mid)*n, v)*ds \\\n",
    "   - dot(f, v)*dx"
   ]
  },
  {
   "cell_type": "markdown",
   "metadata": {},
   "source": [
    "Note that we take advantage of the Python programming language to define our own operators `sigma` and `epsilon`. Using Python this way makes it easy to extend the mathematical language of FEniCS with special operators and constitutive laws.\n",
    "\n",
    "It is a tedious process to separate the unknowns from known values from the variational form. FEniCS can sort out the bilinear form $a(u,v)$ and linear form $L(v)$ forms by the `lhs` and `rhs` functions. This is particularly convenient in longer and more complicated variational forms."
   ]
  },
  {
   "cell_type": "code",
   "execution_count": 11,
   "metadata": {
    "collapsed": true
   },
   "outputs": [],
   "source": [
    "a1 = lhs(F1)\n",
    "L1 = rhs(F1)"
   ]
  },
  {
   "cell_type": "markdown",
   "metadata": {},
   "source": [
    "The splitting scheme requires the solution of a sequence of three variational problems in each time step. We have previously used the built-in FEniCS function `solve` to solve variational problems. Under the hood, when a user calls `solve(a == L, u, bc)`, FEniCS will perform the following steps:\n",
    "```\n",
    "A = assemble(A)\n",
    "b = assemble(L)\n",
    "bc.apply(A, b)\n",
    "solve(A, u.vector(), b)\n",
    "```\n",
    "In the last step, FEniCS uses the overloaded `solve` function to solve\n",
    "the linear system `AU = b` where `U` is the vector of degrees of\n",
    "freedom for the function $u(x) = \\sum_{j=1} U_j \\phi_j(x)$.\n",
    "\n",
    "In our implementation of the splitting scheme, we will make use of\n",
    "these low-level commands to first assemble and then call solve. This\n",
    "has the advantage that we may control when we assemble and when we\n",
    "solve the linear system. In particular, since the matrices for the\n",
    "three variational problems are all time-independent, it makes sense to\n",
    "assemble them once and for all outside of the time-stepping loop:"
   ]
  },
  {
   "cell_type": "code",
   "execution_count": 12,
   "metadata": {},
   "outputs": [
    {
     "name": "stdout",
     "output_type": "stream",
     "text": [
      "Calling FFC just-in-time (JIT) compiler, this may take some time.\n",
      "Calling FFC just-in-time (JIT) compiler, this may take some time.\n",
      "Calling FFC just-in-time (JIT) compiler, this may take some time.\n"
     ]
    },
    {
     "data": {
      "text/plain": [
       "[None]"
      ]
     },
     "execution_count": 12,
     "metadata": {},
     "output_type": "execute_result"
    }
   ],
   "source": [
    "# Assemble the matrix and apply boundary conditions\n",
    "A1 = assemble(a1)\n",
    "\n",
    "[bc.apply(A1) for bc in bcu]"
   ]
  },
  {
   "cell_type": "markdown",
   "metadata": {},
   "source": [
    "Notice the Python *list comprehension* `[bc.apply(b1) for bc in bcu]`\n",
    "which iterates over all `bc` in the list `bcu`. This is a convenient\n",
    "and compact way to construct a loop that applies\n",
    "all boundary conditions in a single line. Also, the code works if\n",
    "we add more Dirichlet boundary conditions in the future.\n",
    "\n",
    "Within the time-stepping loop, we may then assemble only the right-hand side vectors, apply boundary conditions, and call the solve function as here for the first of the three steps:\n",
    "\n",
    "```\n",
    "# Time-stepping\n",
    "for k in range(num_steps):\n",
    "\n",
    "    # Update current time\n",
    "    t += dt\n",
    "\n",
    "    # Step 1: Tentative velocity step\n",
    "    b1 = assemble(L1)\n",
    "    [bc.apply(b1) for bc in bcu]\n",
    "    solve(A1, u_.vector(), b1)\n",
    "```"
   ]
  },
  {
   "cell_type": "markdown",
   "metadata": {},
   "source": [
    "### Defnine variational problem for step 2"
   ]
  },
  {
   "cell_type": "code",
   "execution_count": 13,
   "metadata": {},
   "outputs": [
    {
     "name": "stdout",
     "output_type": "stream",
     "text": [
      "Calling FFC just-in-time (JIT) compiler, this may take some time.\n"
     ]
    },
    {
     "data": {
      "text/plain": [
       "[None, None]"
      ]
     },
     "execution_count": 13,
     "metadata": {},
     "output_type": "execute_result"
    }
   ],
   "source": [
    "# Define variational problem for step 2\n",
    "a2 = dot(nabla_grad(p), nabla_grad(q))*dx\n",
    "L2 = dot(nabla_grad(p_k), nabla_grad(q))*dx - (1/DT)*div(u_)*q*dx\n",
    "\n",
    "A2 = assemble(a2)\n",
    "\n",
    "# Apply boundary conditions to matrices\n",
    "[bc.apply(A2) for bc in bcp]"
   ]
  },
  {
   "cell_type": "markdown",
   "metadata": {},
   "source": [
    "### Defnine variational problem for step 3"
   ]
  },
  {
   "cell_type": "code",
   "execution_count": 14,
   "metadata": {},
   "outputs": [
    {
     "name": "stdout",
     "output_type": "stream",
     "text": [
      "Calling FFC just-in-time (JIT) compiler, this may take some time.\n"
     ]
    }
   ],
   "source": [
    "# Define variational problem for step 3\n",
    "a3 = dot(u, v)*dx\n",
    "L3 = dot(u_, v)*dx - DT*dot(nabla_grad(p_ - p_k), v)*dx\n",
    "\n",
    "# Assemble matrices\n",
    "A3 = assemble(a3)"
   ]
  },
  {
   "cell_type": "markdown",
   "metadata": {},
   "source": [
    "### Time stepping"
   ]
  },
  {
   "cell_type": "code",
   "execution_count": 15,
   "metadata": {},
   "outputs": [
    {
     "name": "stdout",
     "output_type": "stream",
     "text": [
      "Calling FFC just-in-time (JIT) compiler, this may take some time.\n",
      "Calling FFC just-in-time (JIT) compiler, this may take some time.\n",
      "Calling FFC just-in-time (JIT) compiler, this may take some time.\n",
      "Calling FFC just-in-time (JIT) compiler, this may take some time.\n"
     ]
    },
    {
     "data": {
      "image/png": "[encoded data removed]",
      "text/plain": [
       "<matplotlib.figure.Figure at 0x7fadf84c7d68>"
      ]
     },
     "metadata": {},
     "output_type": "display_data"
    }
   ],
   "source": [
    "# Time-stepping\n",
    "t = 0\n",
    "for n in range(num_steps):\n",
    "    # Update current time\n",
    "    t += dt\n",
    "\n",
    "    # Step 1: Tentative velocity step\n",
    "    b1 = assemble(L1)\n",
    "    [bc.apply(b1) for bc in bcu]\n",
    "    solve(A1, u_.vector(), b1)\n",
    "\n",
    "    # Step 2: Pressure correction step\n",
    "    b2 = assemble(L2)\n",
    "    [bc.apply(b2) for bc in bcp]\n",
    "    solve(A2, p_.vector(), b2)\n",
    "\n",
    "    # Step 3: Velocity correction step\n",
    "    b3 = assemble(L3)\n",
    "    solve(A3, u_.vector(), b3)\n",
    "\n",
    "    # Plot solution\n",
    "    plot(u_)\n",
    "\n",
    "    # Update previous solution\n",
    "    u_k.assign(u_)\n",
    "    p_k.assign(p_)"
   ]
  },
  {
   "cell_type": "markdown",
   "metadata": {},
   "source": [
    "## Verification\n",
    "\n",
    "We compute the error at the nodes to verify that our implementation \n",
    "is correct. For this problem, the exact solution \n",
    "is $p(x)=8(1-x)$ and $u_x=4y(1-y)$. Our Navier--Stokes solver computes\n",
    "the solution to the time-dependent incompressible Navier--Stokes\n",
    "equations, starting from the initial condition $u = (0, 0)$. We have\n",
    "not specified the initial condition explicitly in our solver which\n",
    "means that FEniCS will initialize all variables, in particular the\n",
    "previous and current velocities `u_k` and `u_`, to zero. Since the\n",
    "exact solution is quadratic, we expect the solution to be exact to\n",
    "within machine precision at the nodes at infinite time. For our\n",
    "implementation, the error quickly approaches zero and is approximately\n",
    "$10^{-6}$ at time $T = 10$."
   ]
  },
  {
   "cell_type": "code",
   "execution_count": 16,
   "metadata": {},
   "outputs": [
    {
     "name": "stderr",
     "output_type": "stream",
     "text": [
      "--- Instant: compiling ---\n"
     ]
    },
    {
     "name": "stdout",
     "output_type": "stream",
     "text": [
      "t = 10.00: error = 3.55e-06\n",
      "max u: 1.00000034371\n"
     ]
    }
   ],
   "source": [
    "# Compute error\n",
    "u_e = Expression(('4*x[1]*(1.0 - x[1])', '0'), degree=2)\n",
    "u_e = interpolate(u_e, V)\n",
    "error = np.abs(u_e.vector().array() - u_.vector().array()).max()\n",
    "print('t = %.2f: error = %.3g' % (t, error))\n",
    "print('max u:', u_.vector().array().max())"
   ]
  },
  {
   "cell_type": "markdown",
   "metadata": {},
   "source": [
    "**Note on the exact solution of channel flow.** The exact solution is derived by assuming \n",
    "$\\boldsymbol{u}=(u_x(x,y,z),0,0)$, with\n",
    "the $x$ axis pointing along the channel. Since $\\boldsymbol{\\nabla}\\cdot \\boldsymbol{u}=0$, \n",
    "$\\boldsymbol{u}$ cannot depend on $x$. The physics of channel flow is also\n",
    "two-dimensional so we can omit the $z$ coordinate (more precisely:\n",
    "$\\partial/\\partial z=0$). Inserting $\\boldsymbol{u}=(u_x,0,0)$ in the (scaled)\n",
    "governing equations gives $u_x''(y) = \\partial p/\\partial x$.\n",
    "Differentiating this equation with respect to $x$ shows that $\\partial^2\n",
    "p/\\partial^2 x =0$ so $\\partial\n",
    "p/\\partial x$ is a constant, here called $-\\beta$. This is the driving\n",
    "force of the flow and can be specified as a known parameter in the\n",
    "problem.  Integrating $u_x''(y)=-\\beta$ over the width of the channel,\n",
    "$[0,1]$, and requiring $\\boldsymbol{u}=(0, 0, 0)$ at the channel walls, results in\n",
    "$u_x=\\frac{1}{2}\\beta y(1-y)$. The characteristic inlet velocity\n",
    "$\\boldsymbol{U}$ can be taken as the maximum inflow at $y=1/2$, implying\n",
    "$\\beta = 8$. The length of the channel, $L/H$ in the scaled\n",
    "model, has no impact on the result, so for simplicity we just compute\n",
    "on the unit square. Mathematically, the pressure must be prescribed\n",
    "at a point, but since $p$ does not depend on $y$, we can set $p$ to a\n",
    "known value, e.g. zero, along the outlet boundary $x=1$. The result"
   ]
  },
  {
   "cell_type": "markdown",
   "metadata": {},
   "source": [
    "### Exercise: Simulate channel flow in a 3D geometry\n",
    "\n",
    "FEniCS solvers typically have the number of space dimensions\n",
    "parameterized, so a 1D, 2D, and 3D code all look the same.\n",
    "We shall demonstrate what this means by extending the 2D solver\n",
    "to a simulator where the domain is a box\n",
    "(the unit cube in the scaled model).\n",
    "\n",
    "Set up boundary conditions for $u$ at all points on the boundary.\n",
    "Set up boundary conditions for $p$ at all points on the boundary as\n",
    "this is required by our Poisson equation for $p$ (but not in the\n",
    "original mathematical model -- there, knowing $p$ at one point throughout\n",
    "time is sufficient).\n",
    "\n",
    "At the inlet $x=0$ we have the velocity completely described: $(u_x,0,0)$.\n",
    "At the channel walls, $y=0$ and $y=1$, we also have the velocity\n",
    "completely described: $\\boldsymbol{u}=(0,0,0)$ because of no-slip.\n",
    "At the outlet x=1 we do not specify anything. This means that the\n",
    "boundary integrals in Step 1 vanish and that $p=0$ and\n",
    "$\\partial \\boldsymbol{u}/\\partial \\boldsymbol{n} = 0$, with $\\boldsymbol{n}$ as the $x$ direction,\n",
    "implying ``no change'' with $x$, which is reasonable (since we know\n",
    "that $\\partial/\\partial x=0$ because of incompressibility).\n",
    "For the pressure we set $p=8$ at $x=0$ and $p=0$ at $x=1$ to\n",
    "represent a scaled pressure gradient equal to 8 (which leads to\n",
    "a unit maximum velocity). At $y=0$ and $y=1$ we do not specify anything,\n",
    "which implies $\\partial p/\\partial y=0$. This is a condition much\n",
    "discussed in the literature, but it works perfectly in channel flow\n",
    "with straight walls.\n",
    "\n",
    "The two remaining boundaries, $z=0$ and $z=1$, requires attention.\n",
    "For the pressure, \"nothing happens\" in the $z$ direction so\n",
    "$\\partial p/\\partial z=\\partial p/\\partial \\boldsymbol{n}=0$\n",
    "is the condition.\n",
    "This is automatically implemented by the finite element method.\n",
    "For the velocity we also have a ``nothing happens'' criterion in the\n",
    "3rd direction, and we can in addition use the assumption of $u_z=0$,\n",
    "if needed.\n",
    "The derivative criterion means $\\partial u/\\partial z=\\partial u/\\partial n=0$\n",
    "in the boundary integrals. There is also an integral involving $pn_z$\n",
    "in a component PDE with $u_z$ in all terms.\n",
    "\n",
    "Modify the `navier_stokes_channel.py` file so it computes 3D channel flow.\n",
    "\n",
    "<!--\n",
    "We must switch the domain from `UnitSquareMesh` to `UnitCubeMesh`.\n",
    "We must also switch all 3-vectors to 2-vectors, such as\n",
    "replacing going from `(0,0)` to `(0,0,0)` in `bcu_noslip`. Similarly,\n",
    "`f` and `u_e` must extend their 2-vectors to 3-vectors. -->"
   ]
  },
  {
   "cell_type": "markdown",
   "metadata": {},
   "source": [
    "# References\n",
    "\n",
    "<mark> <b>The bib file 1 was not found\n",
    "\n",
    "</b> </mark>(<a id=\"cit-Chorin1968\" href=\"#call-Chorin1968\">?</a>) !! _This reference was not found in 1 _ !!\n",
    "\n",
    "(<a id=\"cit-Temam1969\" href=\"#call-Temam1969\">?</a>) !! _This reference was not found in 1 _ !!\n",
    "\n",
    "(<a id=\"cit-Goda1979\" href=\"#call-Goda1979\">?</a>) !! _This reference was not found in 1 _ !!\n",
    "\n"
   ]
  }
 ],
 "metadata": {
  "kernelspec": {
   "display_name": "Python 3",
   "language": "python",
   "name": "python3"
  },
  "language_info": {
   "codemirror_mode": {
    "name": "ipython",
    "version": 3
   },
   "file_extension": ".py",
   "mimetype": "text/x-python",
   "name": "python",
   "nbconvert_exporter": "python",
   "pygments_lexer": "ipython3",
   "version": "3.6.8"
  },
  "latex_envs": {
   "LaTeX_envs_menu_present": true,
   "autoclose": false,
   "autocomplete": true,
   "bibliofile": "1",
   "cite_by": "apalike",
   "current_citInitial": 1,
   "eqLabelWithNumbers": false,
   "eqNumInitial": 1,
   "hotkeys": {
    "equation": "Ctrl-E",
    "itemize": "Ctrl-I"
   },
   "labels_anchors": false,
   "latex_user_defs": false,
   "report_style_numbering": false,
   "user_envs_cfg": false
  }
 },
 "nbformat": 4,
 "nbformat_minor": 2
}
