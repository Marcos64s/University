{
 "cells": [
  {
   "cell_type": "markdown",
   "metadata": {},
   "source": [
    "# Hyperelasticity #\n",
    "\n",
    "\n",
    "## Hyperelasticity background ##\n",
    "\n",
    "This example demonstrates the solution of a three-dimensional\n",
    "elasticity problem. In addition to illustrating how to use\n",
    "FunctionSpaces, Expressions and how to apply Dirichlet boundary\n",
    "conditions, it focuses on how to:\n",
    "\n",
    "* Minimize a non-quadratic functional\n",
    "* Use automatic computation of the directional derivative\n",
    "* Solve a nonlinear variational problem\n",
    "* Define compiled sub-domains\n",
    "* Use specific form compiler optimization options"
   ]
  },
  {
   "cell_type": "markdown",
   "metadata": {},
   "source": [
    "## Equation and problem definition ##\n",
    "\n",
    "By definition, boundary value problems for hyperelastic media can be\n",
    "expressed as minimization problems, and the minimization approach is\n",
    "adopted in this example. For a domain $\\Omega \\subset\n",
    "\\mathbb{R}^{d}$, where $d$ denotes the spatial dimension, the\n",
    "task is to find the displacement field $u: \\Omega \\rightarrow\n",
    "\\mathbb{R}^{d}$ that minimises the total potential energy $\\Pi$:\n",
    "\n",
    "$$\\min_{u \\in V} \\Pi,$$\n",
    "\n",
    "where $V$ is a suitable function space that satisfies boundary\n",
    "conditions on $u$.  The total potential energy is given by\n",
    "\n",
    "\\begin{equation}\n",
    "   \\Pi = \\int_{\\Omega} \\psi(u) \\, {\\rm d} x\n",
    "   - \\int_{\\Omega} B \\cdot u \\, {\\rm d} x\n",
    "   - \\int_{\\partial\\Omega} T \\cdot u \\, {\\rm d} s,\n",
    "\\end{equation}\n",
    "where $\\psi$ is the elastic stored energy density, $B$ is a\n",
    "body force (per unit reference volume) and $T$ is a traction force\n",
    "(per unit reference area)."
   ]
  },
  {
   "cell_type": "markdown",
   "metadata": {},
   "source": [
    "At minimum points of $\\Pi$, the directional derivative of $\\Pi$\n",
    "with respect to change in $u$\n",
    "\n",
    "\\begin{equation}\n",
    "L(u; v) = D_{v} \\Pi = \\left. \\frac{d \\Pi(u + \\epsilon v)}{d\\epsilon} \\right|_{\\epsilon = 0}\n",
    "\\end{equation}\n",
    "\n",
    "is equal to zero for all $v \\in V$:\n",
    "\n",
    "$$L(u; v) = 0 \\ \\ \\ \\  \\forall \\ v \\in V.$$"
   ]
  },
  {
   "cell_type": "markdown",
   "metadata": {},
   "source": [
    "To minimize the potential energy, a solution to the variational\n",
    "equation above is sought. Depending on the potential energy\n",
    "$\\psi$, $L(u; v)$ can be nonlinear in $u$. In such a\n",
    "case, the Jacobian of $L$ is required in order to solve this\n",
    "problem using Newton's method. The Jacobian of $L$ is defined as\n",
    "\n",
    "\\begin{equation}\n",
    "a(u; du, v) = D_{du} L = \\left. \\frac{d L(u + \\epsilon du; v)}{d\\epsilon} \\right|_{\\epsilon = 0} .\n",
    "\\end{equation}"
   ]
  },
  {
   "cell_type": "markdown",
   "metadata": {},
   "source": [
    "### Elastic stored energy density ###\n",
    "\n",
    "To define the elastic stored energy density, consider the deformation\n",
    "gradient $F$\n",
    "\n",
    "\\begin{equation}\n",
    "   F = I + \\nabla u,\n",
    "\\end{equation}\n",
    "\n",
    "the right Cauchy-Green tensor $C$\n",
    "\n",
    "$$C = F^{T} F,$$\n",
    "\n",
    "and the scalars  $J$ and $I_{c}$\n",
    "\n",
    "\\begin{align}\n",
    "   J     &= \\det(F), \\\\\n",
    "   I_{c} &= {\\rm trace}(C).\n",
    "\\end{align}"
   ]
  },
  {
   "cell_type": "markdown",
   "metadata": {},
   "source": [
    "This demo considers a common neo-Hookean stored energy model of the form\n",
    "\n",
    "$$\n",
    "   \\psi =  \\frac{\\mu}{2} (I_{c} - 3) - \\mu \\ln(J) + \\frac{\\lambda}{2}\\ln(J)^{2},\n",
    "$$\n",
    "where $\\mu$ and $\\lambda$ are the Lame parameters. These\n",
    "can be expressed in terms of the more common Young's modulus $E$\n",
    "and Poisson ratio $\\nu$ by:\n",
    "\n",
    "\\begin{equation}\n",
    "    \\lambda = \\frac{E \\nu}{(1 + \\nu)(1 - 2\\nu)}, \\quad  \\quad\n",
    "    \\mu     =  \\frac{E}{2(1 + \\nu)} .\n",
    "\\end{equation}"
   ]
  },
  {
   "cell_type": "markdown",
   "metadata": {},
   "source": [
    "### Demo parameters ###\n",
    "\n",
    "We consider a unit cube domain:\n",
    "\\begin{equation}\n",
    "\\Omega = (0, 1) \\times (0, 1) \\times (0, 1) \\mbox{(unit cube)}\n",
    "\\end{equation}\n",
    "\n",
    "We use the following definitions of the boundary and boundary conditions:\n",
    "\n",
    "* $\\Gamma_{D_{0}} = 0 \\times (0, 1) \\times (0, 1)$ (Dirichlet boundary)\n",
    "\n",
    "* $\\Gamma_{D_{1}} = 1 \\times (0, 1) \\times (0, 1)$ (Dirichlet boundary)\n",
    "\n",
    "* $\\Gamma_{N} = \\partial \\Omega \\backslash \\Gamma_{D}$ (Neumann boundary)\n",
    "\n",
    "* On $\\Gamma_{D_{0}}$:  $u = (0, 0, 0)$\n",
    "\n",
    "* On $\\Gamma_{D_{1}}$: \n",
    "\\begin{align}\n",
    "       u = (&0, \\\\\n",
    "       &(0.5 + (y - 0.5)\\cos(\\pi/3) - (z - 0.5)\\sin(\\pi/3) - y)/2, \\\\\n",
    "       &(0.5 + (y - 0.5)\\sin(\\pi/3) + (z - 0.5)\\cos(\\pi/3) - z))/2)\n",
    "\\end{align}\n",
    "\n",
    "* On $\\Gamma_{N}$: $T = (0.1, 0, 0)$"
   ]
  },
  {
   "cell_type": "markdown",
   "metadata": {},
   "source": [
    "These are the body forces and material parameters used:\n",
    "\n",
    "* $B = (0, -0.5, 0)$\n",
    "\n",
    "* $E    = 10.0$\n",
    "\n",
    "* $\\nu  = 0.3$\n"
   ]
  },
  {
   "cell_type": "markdown",
   "metadata": {},
   "source": [
    "## FEniCS Implementation ## \n",
    "\n",
    "First, the required modules are imported::"
   ]
  },
  {
   "cell_type": "code",
   "execution_count": 1,
   "metadata": {},
   "outputs": [],
   "source": [
    "from fenics import *\n",
    "import matplotlib.pyplot as plt\n",
    "%matplotlib inline"
   ]
  },
  {
   "cell_type": "markdown",
   "metadata": {},
   "source": [
    "The behavior of the form compiler FFC can be adjusted by prescribing\n",
    "various parameters. Here, we want to use the UFLACS backend of FFC::"
   ]
  },
  {
   "cell_type": "code",
   "execution_count": 2,
   "metadata": {},
   "outputs": [],
   "source": [
    "# Optimization options for the form compiler\n",
    "parameters[\"form_compiler\"][\"cpp_optimize\"] = True\n",
    "parameters[\"form_compiler\"][\"representation\"] = \"uflacs\""
   ]
  },
  {
   "cell_type": "markdown",
   "metadata": {},
   "source": [
    "The first line tells the form compiler to use C++ compiler optimizations when\n",
    "compiling the generated code. The remainder is a dictionary of options which\n",
    "will be passed to the form compiler. It lists the optimizations strategies\n",
    "that we wish the form compiler to use when generating code."
   ]
  },
  {
   "cell_type": "markdown",
   "metadata": {},
   "source": [
    "First, we need a tetrahedral mesh of the domain and a function space\n",
    "on this mesh. Here, we choose to create a unit cube mesh with 25 ( =\n",
    "24 + 1) vertices in one direction and 17 ( = 16 + 1) vertices in the\n",
    "other two direction. On this mesh, we define a function space of\n",
    "continuous piecewise linear vector polynomials (a Lagrange vector\n",
    "element space)::"
   ]
  },
  {
   "cell_type": "code",
   "execution_count": 3,
   "metadata": {},
   "outputs": [],
   "source": [
    "# Create mesh and define function space\n",
    "mesh = UnitCubeMesh(24, 16, 16)\n",
    "V = VectorFunctionSpace(mesh, \"Lagrange\", 1)"
   ]
  },
  {
   "cell_type": "markdown",
   "metadata": {},
   "source": [
    "Note that `VectorFunctionSpace` creates a\n",
    "function space of vector fields. The dimension of the vector field\n",
    "(the number of components) is assumed to be the same as the spatial\n",
    "dimension, unless otherwise specified.\n",
    "\n",
    "The portions of the boundary on which Dirichlet boundary conditions\n",
    "will be applied are now defined:"
   ]
  },
  {
   "cell_type": "code",
   "execution_count": 4,
   "metadata": {},
   "outputs": [],
   "source": [
    "# Mark boundary subdomians\n",
    "left =  CompiledSubDomain(\"near(x[0], side) && on_boundary\", side = 0.0)\n",
    "right = CompiledSubDomain(\"near(x[0], side) && on_boundary\", side = 1.0)"
   ]
  },
  {
   "cell_type": "markdown",
   "metadata": {},
   "source": [
    "The boundary subdomain `left` corresponds to the part of the\n",
    "boundary on which $x=0$ and the boundary subdomain `right`\n",
    "corresponds to the part of the boundary on which $x=1$. Note\n",
    "that C++ syntax is used in the `CompiledSubDomain` function since\n",
    "the function will be automatically compiled into C++ code for\n",
    "efficiency. The (built-in) variable `on_boundary` is true for points\n",
    "on the boundary of a domain, and false otherwise.\n",
    "\n",
    "The Dirichlet boundary values are defined using compiled expressions:"
   ]
  },
  {
   "cell_type": "code",
   "execution_count": 5,
   "metadata": {},
   "outputs": [],
   "source": [
    "# Define Dirichlet boundary (x = 0 or x = 1)\n",
    "c = Constant((0.0, 0.0, 0.0))\n",
    "r = Expression((\"scale*0.0\",\n",
    "                \"scale*(y0 + (x[1] - y0)*cos(theta) - (x[2] - z0)*sin(theta) - x[1])\",\n",
    "                \"scale*(z0 + (x[1] - y0)*sin(theta) + (x[2] - z0)*cos(theta) - x[2])\"),\n",
    "                scale = 0.5, y0 = 0.5, z0 = 0.5, theta = pi/3, degree=2)"
   ]
  },
  {
   "cell_type": "markdown",
   "metadata": {},
   "source": [
    "Note the use of setting named parameters in the `Expression` for `r`.\n",
    "\n",
    "The boundary subdomains and the boundary condition expressions are\n",
    "collected together in two `DirichletBC` objects, one for each part of the\n",
    "Dirichlet boundary:"
   ]
  },
  {
   "cell_type": "code",
   "execution_count": 6,
   "metadata": {
    "collapsed": true
   },
   "outputs": [],
   "source": [
    "bcl = DirichletBC(V, c, left)\n",
    "bcr = DirichletBC(V, r, right)\n",
    "bcs = [bcl, bcr]"
   ]
  },
  {
   "cell_type": "markdown",
   "metadata": {},
   "source": [
    "The Dirichlet (essential) boundary conditions are constraints on the\n",
    "function space $V$. The function space is therefore required as\n",
    "an argument to `DirichletBC`.\n",
    "\n",
    "Trial and test functions, and the most recent approximate displacement\n",
    "`u` are defined on the finite element space `V`, and two objects\n",
    "of type `Constant` are\n",
    "declared for the body force (`B`) and traction (`T`) terms::"
   ]
  },
  {
   "cell_type": "code",
   "execution_count": 7,
   "metadata": {
    "collapsed": true
   },
   "outputs": [],
   "source": [
    "# Define functions\n",
    "du = TrialFunction(V)            # Incremental displacement\n",
    "v  = TestFunction(V)             # Test function\n",
    "u  = Function(V)                 # Displacement from previous iteration\n",
    "B  = Constant((0.0, -0.5, 0.0))  # Body force per unit volume\n",
    "T  = Constant((0.1,  0.0, 0.0))  # Traction force on the boundary"
   ]
  },
  {
   "cell_type": "markdown",
   "metadata": {},
   "source": [
    "In place of `Constant`, it is also possible to use `as_vector`, e.g.  \n",
    "`B = as_vector( [0.0, -0.5, 0.0] )`. \n",
    "The advantage of Constant is that its values can be\n",
    "changed without requiring re-generation and re-compilation of C++\n",
    "code. On the other hand, using ``as_vector`` can eliminate some\n",
    "function calls during assembly.\n",
    "\n",
    "With the functions defined, the kinematic quantities involved in the model\n",
    "are defined using UFL syntax::"
   ]
  },
  {
   "cell_type": "code",
   "execution_count": 8,
   "metadata": {
    "collapsed": true
   },
   "outputs": [],
   "source": [
    "# Kinematics\n",
    "d = len(u)\n",
    "I = Identity(d)             # Identity tensor\n",
    "F = I + grad(u)             # Deformation gradient\n",
    "C = F.T*F                   # Right Cauchy-Green tensor\n",
    "\n",
    "# Invariants of deformation tensors\n",
    "Ic = tr(C)\n",
    "J  = det(F)"
   ]
  },
  {
   "cell_type": "markdown",
   "metadata": {},
   "source": [
    "Next, the material parameters are set and the strain energy density\n",
    "and the total potential energy are defined, again using UFL syntax::"
   ]
  },
  {
   "cell_type": "code",
   "execution_count": 9,
   "metadata": {
    "collapsed": true
   },
   "outputs": [],
   "source": [
    "# Elasticity parameters\n",
    "E, nu = 10.0, 0.3\n",
    "mu, lmbda = Constant(E/(2*(1 + nu))), Constant(E*nu/((1 + nu)*(1 - 2*nu)))\n",
    "\n",
    "# Stored strain energy density (compressible neo-Hookean model)\n",
    "psi = (mu/2)*(Ic - 3) - mu*ln(J) + (lmbda/2)*(ln(J))**2\n",
    "\n",
    "# Total potential energy\n",
    "Pi = psi*dx - dot(B, u)*dx - dot(T, u)*ds"
   ]
  },
  {
   "cell_type": "markdown",
   "metadata": {},
   "source": [
    "Just as for the body force and traction vectors, `Constant`\n",
    " has been used for the model\n",
    "parameters ``mu`` and ``lmbda`` to avoid re-generation of C++ code\n",
    "when changing model parameters. Note that ``lambda`` is a reserved\n",
    "keyword in Python, hence the misspelling ``lmbda``.\n",
    "\n",
    "Directional derivatives are now computed of $\\Pi$ and $L$:"
   ]
  },
  {
   "cell_type": "code",
   "execution_count": 10,
   "metadata": {
    "collapsed": true
   },
   "outputs": [],
   "source": [
    "# Compute first variation of Pi (directional derivative about u in the direction of v)\n",
    "F = derivative(Pi, u, v)\n",
    "\n",
    "# Compute Jacobian of F\n",
    "J = derivative(F, u, du)"
   ]
  },
  {
   "cell_type": "markdown",
   "metadata": {},
   "source": [
    "The complete variational problem can now be solved by a single call to\n",
    "`solve`:"
   ]
  },
  {
   "cell_type": "code",
   "execution_count": 11,
   "metadata": {},
   "outputs": [],
   "source": [
    "# Solve variational problem\n",
    "solve(F == 0, u, bcs, J=J)"
   ]
  },
  {
   "cell_type": "markdown",
   "metadata": {},
   "source": [
    "Finally, the solution ``u`` is saved to a file named\n",
    "``displacement.pvd`` in VTK format, and the deformed mesh is plotted\n",
    "to the screen::"
   ]
  },
  {
   "cell_type": "code",
   "execution_count": 12,
   "metadata": {},
   "outputs": [
    {
     "data": {
      "image/png": "[encoded data removed]",
      "text/plain": [
       "<matplotlib.figure.Figure at 0x7fbb5dc0f2e8>"
      ]
     },
     "metadata": {},
     "output_type": "display_data"
    }
   ],
   "source": [
    "# Save solution in VTK format\n",
    "file = File(\"displacement.pvd\");\n",
    "file << u;\n",
    "\n",
    "# Plot solution\n",
    "plot(u)\n",
    "plt.show()"
   ]
  }
 ],
 "metadata": {
  "kernelspec": {
   "display_name": "Python 3",
   "language": "python",
   "name": "python3"
  },
  "language_info": {
   "codemirror_mode": {
    "name": "ipython",
    "version": 3
   },
   "file_extension": ".py",
   "mimetype": "text/x-python",
   "name": "python",
   "nbconvert_exporter": "python",
   "pygments_lexer": "ipython3",
   "version": "3.6.8"
  },
  "latex_envs": {
   "LaTeX_envs_menu_present": true,
   "autoclose": false,
   "autocomplete": true,
   "bibliofile": "biblio.bib",
   "cite_by": "apalike",
   "current_citInitial": 1,
   "eqLabelWithNumbers": true,
   "eqNumInitial": 1,
   "hotkeys": {
    "equation": "Ctrl-E",
    "itemize": "Ctrl-I"
   },
   "labels_anchors": false,
   "latex_user_defs": false,
   "report_style_numbering": false,
   "user_envs_cfg": false
  }
 },
 "nbformat": 4,
 "nbformat_minor": 2
}
