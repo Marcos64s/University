{
 "cells": [
  {
   "cell_type": "markdown",
   "metadata": {},
   "source": [
    "# A nonlinear Poisson equation #\n",
    "\n",
    "We shall now address how to solve nonlinear PDEs. We will see that\n",
    "nonlinear problems can be solved just as easily as linear problems in\n",
    "FEniCS, by simply defining a nonlinear variational problem and calling\n",
    "the `solve` function. When doing so, we will encounter a subtle\n",
    "difference in how the variational problem is defined."
   ]
  },
  {
   "cell_type": "markdown",
   "metadata": {},
   "source": [
    "## PDE problem ##\n",
    "\n",
    "As a model problem for the solution of nonlinear PDEs, we\n",
    "take the following nonlinear Poisson equation:\n",
    "\n",
    "\\begin{equation}\n",
    "-\\nabla\\cdot\\left(q(u)\\nabla u\\right) = f,\n",
    "\\end{equation}\n",
    "\n",
    "in $\\Omega$, with $u=u_D$ on the boundary $\\partial\\Omega$.\n",
    "The coefficient $q = q(u)$ makes the equation nonlinear (unless $q(u)$\n",
    "is constant in $u$)."
   ]
  },
  {
   "cell_type": "markdown",
   "metadata": {},
   "source": [
    "### Variational formulation ###\n",
    "\n",
    "As usual, we multiply our PDE by a test function $v\\in\\hat V$,\n",
    "integrate over the domain, and integrate the second-order derivatives\n",
    "by parts. The boundary integral arising from integration by parts\n",
    "vanishes wherever we employ Dirichlet conditions. The resulting\n",
    "variational formulation of our model problem becomes: find $u \\in V$\n",
    "such that\n",
    "\n",
    "\\begin{equation}\n",
    "F(u; v) = 0 \\ \\ \\ \\ \\forall v \\in \\hat{V},\n",
    "\\label{eq-poisson0-nonlinear1}\n",
    "\\end{equation}\n",
    "\n",
    "where\n",
    "\n",
    "\\begin{equation}\n",
    "F(u; v) = \\int_\\Omega (q(u)\\nabla u\\cdot \\nabla v - fv) dx,\n",
    "\\label{eq-poisson0-nonlinear2}\n",
    "\\end{equation}\n",
    "\n",
    "and\n",
    "\n",
    "\\begin{align*}\n",
    "     V      &= \\{v \\in H^1(\\Omega) : v = u_D \\mbox{ on } \\partial\\Omega\\},\\\\\n",
    "    \\hat{V} &= \\{v \\in H^1(\\Omega) : v = 0 \\mbox{ on } \\partial\\Omega\\}.\n",
    "\\end{align*}"
   ]
  },
  {
   "cell_type": "markdown",
   "metadata": {},
   "source": [
    "The discrete problem arises as usual by restricting $V$ and $\\hat V$\n",
    "to a pair of discrete spaces. As before, we omit any subscript on\n",
    "the discrete spaces and discrete solution.\n",
    "The discrete nonlinear problem is then written as: find $u\\in V$ such that\n",
    "\n",
    "\\begin{equation}\n",
    "  F(u; v) = 0 \\ \\ \\ \\ \\  \\forall v \\in \\hat{V},\n",
    "\\label{eq-poisson0-nonlinear-d}\n",
    "\\end{equation}\n",
    "\n",
    "with $u = \\sum_{j=1}^N U_j \\phi_j$. Since $F$ is nonlinear in\n",
    "$u$, the variational statement gives rise to a system of\n",
    "nonlinear algebraic equations in the unknowns $U_1,\\ldots,U_N$."
   ]
  },
  {
   "cell_type": "markdown",
   "metadata": {},
   "source": [
    "## FEniCS implementation ##\n",
    "\n",
    "### Test problem ###\n",
    "\n",
    "To solve a test problem, we need to choose the right-hand side $f$,\n",
    "the coefficient $q(u)$ and the boundary value $u_D$.  Previously, we\n",
    "have worked with manufactured solutions that can be reproduced without\n",
    "approximation errors. This is more difficult in nonlinear problems,\n",
    "and the algebra is more tedious. However, we may utilize SymPy for\n",
    "symbolic computing and integrate such computations in the FEniCS\n",
    "solver. This allows us to easily experiment with different\n",
    "manufactured solutions. The forthcoming code with SymPy requires some\n",
    "basic familiarity with this package. In particular, we will use the\n",
    "SymPy functions `diff` for symbolic differentiation and `ccode` for\n",
    "C/C++ code generation."
   ]
  },
  {
   "cell_type": "markdown",
   "metadata": {},
   "source": [
    "We take $q(u) = 1 + u^2$ and define a two-dimensional manufactured\n",
    "solution that is linear in $x$ and $y$:"
   ]
  },
  {
   "cell_type": "code",
   "execution_count": 1,
   "metadata": {
    "collapsed": true
   },
   "outputs": [],
   "source": [
    "# Warning: from fenics import * will import both `sym` and\n",
    "# `q` from FEniCS. We therefore import FEniCS first and then\n",
    "# overwrite these objects.\n",
    "from fenics import *\n",
    "\n",
    "def q(u):\n",
    "    \"Return nonlinear coefficient\"\n",
    "    return 1 + u**2"
   ]
  },
  {
   "cell_type": "markdown",
   "metadata": {},
   "source": [
    "Note: Define symbolic coordinates as required in `Expression` objects\n",
    "Note that we would normally write `x, y = sym.symbols('x, y')`, but\n",
    "if we want the resulting expressions to have valid syntax for\n",
    "FEniCS `Expression` objects, we must use `x[0]` and `x[1]`.\n",
    "This is easily accomplished with `sympy` by defining the names of `x` and\n",
    "`y` as `x[0]` and `x[1]`: `x, y = sym.symbols('x[0], x[1]')`."
   ]
  },
  {
   "cell_type": "code",
   "execution_count": 2,
   "metadata": {},
   "outputs": [],
   "source": [
    "# Use SymPy to compute f from the manufactured solution u\n",
    "import sympy as sym\n",
    "x, y = sym.symbols('x[0], x[1]')\n",
    "u = 1 + x + 2*y\n",
    "\n",
    "f = - sym.diff(q(u)*sym.diff(u, x), x) - sym.diff(q(u)*sym.diff(u, y), y)\n",
    "f = sym.simplify(f)"
   ]
  },
  {
   "cell_type": "markdown",
   "metadata": {},
   "source": [
    "Turning the expressions for `u` and `f` into C or C++ syntax for\n",
    "FEniCS `Expression` objects needs two steps. First, we ask for the C\n",
    "code of the expressions:"
   ]
  },
  {
   "cell_type": "code",
   "execution_count": 3,
   "metadata": {},
   "outputs": [
    {
     "name": "stdout",
     "output_type": "stream",
     "text": [
      "u = x[0] + 2*x[1] + 1\n",
      "f = -10*x[0] - 20*x[1] - 10\n"
     ]
    }
   ],
   "source": [
    "u_code = sym.printing.ccode(u)\n",
    "f_code = sym.printing.ccode(f)\n",
    "\n",
    "print('u =', u_code)\n",
    "print('f =', f_code)"
   ]
  },
  {
   "cell_type": "markdown",
   "metadata": {},
   "source": [
    "In some cases, one will need to edit the result to match the required\n",
    "syntax of `Expression` objects, but not in this case. (The primary\n",
    "example is that `M_PI` for $\\pi$ in C/C++ must be replaced by `pi` for\n",
    "`Expression` objects.) "
   ]
  },
  {
   "cell_type": "markdown",
   "metadata": {},
   "source": [
    "After having defined the mesh, the function space, and the boundary,\n",
    "we define the boundary value `u_D` as"
   ]
  },
  {
   "cell_type": "code",
   "execution_count": 4,
   "metadata": {},
   "outputs": [],
   "source": [
    "u_D = Expression(u_code, degree=1)"
   ]
  },
  {
   "cell_type": "markdown",
   "metadata": {},
   "source": [
    "Similarly, we define the right-hand side function as"
   ]
  },
  {
   "cell_type": "code",
   "execution_count": 5,
   "metadata": {},
   "outputs": [],
   "source": [
    "f = Expression(f_code, degree=1)"
   ]
  },
  {
   "cell_type": "markdown",
   "metadata": {},
   "source": [
    "*Warning*: Name clash between FEniCS and program variables\n",
    "In a program like the one above, strange errors may occur due to\n",
    "name clashes. If you define `sym` and `q` prior to doing\n",
    "`from fenics import *`, the latter statement will also import\n",
    "variables with the names `sym` and `q`, overwriting\n",
    "the objects you have previously defined! This may lead to strange\n",
    "errors. The safest solution is to do `import fenics` instead of\n",
    "`from fenics import *` and then prefix all FEniCS\n",
    "object names by `fenics`. The next best solution is to do\n",
    "`from fenics import *` first and then define your own variables\n",
    "that overwrite those imported from `fenics`. This is acceptable\n",
    "if we do not need `sym` and `q` from `fenics`."
   ]
  },
  {
   "cell_type": "markdown",
   "metadata": {},
   "source": [
    "## FEniCS implementation ##\n",
    "\n",
    "A solver for the nonlinear Poisson equation is as easy to\n",
    "implement as a solver for the linear Poisson equation.\n",
    "All we need to do is to state the formula for $F$ and call\n",
    "`solve(F == 0, u, bc)` instead of `solve(a == L, u, bc)` as we did\n",
    "in the linear case. Here is a minimalistic code:"
   ]
  },
  {
   "cell_type": "code",
   "execution_count": 6,
   "metadata": {},
   "outputs": [
    {
     "data": {
      "image/png": "[encoded data removed]",
      "text/plain": [
       "<matplotlib.figure.Figure at 0x7f06b10369e8>"
      ]
     },
     "metadata": {},
     "output_type": "display_data"
    }
   ],
   "source": [
    "%matplotlib inline\n",
    "\n",
    "n = 16\n",
    "\n",
    "mesh = UnitSquareMesh(8, 8)\n",
    "plot(mesh)\n",
    "\n",
    "V = FunctionSpace(mesh, 'P', 1)\n",
    "u = Function(V)\n",
    "v = TestFunction(V)"
   ]
  },
  {
   "cell_type": "code",
   "execution_count": 7,
   "metadata": {
    "collapsed": true
   },
   "outputs": [],
   "source": [
    "def boundary(x, on_boundary):\n",
    "    return on_boundary\n",
    "\n",
    "u_D = Expression(u_code, degree=1)\n",
    "bc = DirichletBC(V, u_D, boundary)"
   ]
  },
  {
   "cell_type": "code",
   "execution_count": 8,
   "metadata": {},
   "outputs": [],
   "source": [
    "f = Expression(f_code, degree=1)\n",
    "F = q(u)*dot(grad(u), grad(v))*dx - f*v*dx\n",
    "\n",
    "solve(F == 0, u, bc)"
   ]
  },
  {
   "cell_type": "markdown",
   "metadata": {},
   "source": [
    "We can examine the solution at the vertices:"
   ]
  },
  {
   "cell_type": "code",
   "execution_count": 9,
   "metadata": {},
   "outputs": [
    {
     "name": "stdout",
     "output_type": "stream",
     "text": [
      "Max error is:  0.0\n"
     ]
    }
   ],
   "source": [
    "import numpy as np\n",
    "\n",
    "def print_max_error():\n",
    "    u_e = interpolate(u_D, V)\n",
    "\n",
    "    u0_at_vertices = u_e.compute_vertex_values()\n",
    "    u_at_vertices = u.compute_vertex_values()\n",
    "    coor = V.mesh().coordinates()\n",
    "\n",
    "    print('Max error is: ', np.max(u0_at_vertices - u_at_vertices))\n",
    "\n",
    "def print_errors():\n",
    "    u_e = interpolate(u_D, V)\n",
    "\n",
    "    u0_at_vertices = u_e.compute_vertex_values()\n",
    "    u_at_vertices = u.compute_vertex_values()\n",
    "    coor = V.mesh().coordinates()\n",
    "\n",
    "    for i, x in enumerate(coor):\n",
    "        print('vertex %2d (%9g,%9g): error=%g' %\n",
    "              (i, x[0], x[1],\n",
    "               u0_at_vertices[i] - u_at_vertices[i]))\n",
    "\n",
    "print_max_error()"
   ]
  },
  {
   "cell_type": "markdown",
   "metadata": {},
   "source": [
    "The major difference from a linear problem is that the unknown function\n",
    "`u` in the variational form in the nonlinear case\n",
    "must be defined as a `Function`, not as a `TrialFunction`. In some sense\n",
    "this is a simplification from the linear case where we must define `u`\n",
    "first as a `TrialFunction` and then as a `Function`.\n"
   ]
  },
  {
   "cell_type": "markdown",
   "metadata": {},
   "source": [
    "### Newton's method ###\n",
    "\n",
    "The `solve` function takes the nonlinear equations, derives symbolically\n",
    "the Jacobian matrix, and runs a Newton method to compute the solution."
   ]
  },
  {
   "cell_type": "markdown",
   "metadata": {},
   "source": [
    "When we run the code, FEniCS reports on the progress of the Newton\n",
    "iterations. With $2\\cdot(8\\times 8)$ cells, we reach convergence in eight\n",
    "iterations with a tolerance of $10^{-9}$, and the error in the\n",
    "numerical solution is about $10^{-16}$. These results bring evidence\n",
    "for a correct implementation. Thinking in terms of finite differences\n",
    "on a uniform mesh, $\\mathsf{P}_1$ elements mimic standard\n",
    "second-order differences, which compute the derivative of a linear or\n",
    "quadratic function exactly. Here, $\\nabla u$ is a constant vector, but\n",
    "then multiplied by $(1+u^2)$, which is a second-order polynomial in\n",
    "$x$ and $y$, which the divergence \"difference operator\" should\n",
    "compute exactly. We can therefore, even with $\\mathcal{P}_1$\n",
    "elements, expect the manufactured $u$ to be reproduced by the\n",
    "numerical method. With a nonlinearity like $1+u^4$, this will not be\n",
    "the case, and we would need to verify convergence rates instead."
   ]
  },
  {
   "cell_type": "markdown",
   "metadata": {},
   "source": [
    "The current example shows how easy it is to solve a nonlinear problem\n",
    "in FEniCS. However, experts on the numerical solution of nonlinear\n",
    "PDEs know very well that automated procedures may fail for nonlinear\n",
    "problems, and that it is often necessary to have much better manual\n",
    "control of the solution process than what we have in the current\n",
    "case."
   ]
  },
  {
   "cell_type": "markdown",
   "metadata": {},
   "source": [
    "We can also control the Newton's solver."
   ]
  },
  {
   "cell_type": "code",
   "execution_count": 10,
   "metadata": {},
   "outputs": [
    {
     "name": "stdout",
     "output_type": "stream",
     "text": [
      "Max error is:  0.0\n"
     ]
    }
   ],
   "source": [
    "# Compute solution\n",
    "solve(F == 0, u, bc,\n",
    "      solver_parameters={\"newton_solver\":{\"relative_tolerance\":1e-6}})\n",
    "\n",
    "print_max_error()"
   ]
  },
  {
   "cell_type": "code",
   "execution_count": null,
   "metadata": {
    "collapsed": true
   },
   "outputs": [],
   "source": []
  }
 ],
 "metadata": {
  "kernelspec": {
   "display_name": "Python 3",
   "language": "python",
   "name": "python3"
  },
  "language_info": {
   "codemirror_mode": {
    "name": "ipython",
    "version": 3
   },
   "file_extension": ".py",
   "mimetype": "text/x-python",
   "name": "python",
   "nbconvert_exporter": "python",
   "pygments_lexer": "ipython3",
   "version": "3.6.8"
  },
  "latex_envs": {
   "LaTeX_envs_menu_present": true,
   "autoclose": false,
   "autocomplete": true,
   "bibliofile": "biblio.bib",
   "cite_by": "apalike",
   "current_citInitial": 1,
   "eqLabelWithNumbers": true,
   "eqNumInitial": 1,
   "hotkeys": {
    "equation": "Ctrl-E",
    "itemize": "Ctrl-I"
   },
   "labels_anchors": false,
   "latex_user_defs": false,
   "report_style_numbering": false,
   "user_envs_cfg": false
  }
 },
 "nbformat": 4,
 "nbformat_minor": 2
}
