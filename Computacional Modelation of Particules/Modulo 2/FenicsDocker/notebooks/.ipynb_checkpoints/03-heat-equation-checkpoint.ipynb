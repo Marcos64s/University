{
 "cells": [
  {
   "cell_type": "markdown",
   "metadata": {},
   "source": [
    "# The Heat Equation #\n",
    "\n",
    "As an extension of the Poisson equation, we consider the time-dependent heat equation, or the time-dependent diffusion equation. This is a natural extension of the Poisson equation describing the stationary distribution of heat in a body to a time-dependent problem."
   ]
  },
  {
   "cell_type": "markdown",
   "metadata": {},
   "source": [
    "## PDE problem ##\n",
    "\n",
    "Our model problem for time-dependent PDEs reads\n",
    "\n",
    "\n",
    "\\begin{alignat}{2}\n",
    "{\\partial u\\over\\partial t} &= \\Delta u + f \\quad &&\\hbox{in }\\Omega\\times(0, T],\n",
    "\\label{eq:diffusion0:pde1}\\\\\n",
    "u &= u_D &&\\hbox{on } \\partial \\Omega\\times(0, T],\n",
    "\\label{eq:diffusion0:pde1:bc}\\\\\n",
    "u &= u_0 &&\\mbox{at } t=0.\n",
    "\\label{eq:diffusion0:pde1:ic}\n",
    "\\end{alignat}\n",
    "\n",
    "Here, $u$ varies with space and time, e.g., $u=u(x,y,t)$ if the spatial\n",
    "domain $\\Omega$ is two-dimensional. The source function $f$ and the\n",
    "boundary values $u_D$ may also vary with space and time.\n",
    "The initial condition $u_0$ is a function of space only."
   ]
  },
  {
   "cell_type": "markdown",
   "metadata": {},
   "source": [
    "## Variational formulation ##\n",
    "\n",
    "A straightforward approach to solving time-dependent PDEs by the\n",
    "finite element method is to first discretize the time derivative by a\n",
    "finite difference approximation, which yields a sequence of\n",
    "stationary problems, and then turn each stationary problem into a\n",
    "variational formulation."
   ]
  },
  {
   "cell_type": "markdown",
   "metadata": {},
   "source": [
    "Let superscript $(k)$ denote a quantity at time $t_k$, where $k$ is an\n",
    "integer counting time levels. For example, $u^{(k)}$ means $u$ at time\n",
    "level $k$. A finite difference discretization in time first consists\n",
    "of sampling the PDE at some time level, say $t_{k+1}$:"
   ]
  },
  {
   "cell_type": "markdown",
   "metadata": {},
   "source": [
    "\\begin{equation}\n",
    "\\left({\\partial u \\over\\partial t}\\right)^{(k+1)} = \\Delta u^{(k+1)} + f^{(k+1)}.\n",
    "\\label{eq:diffusion0:pde1:tk}\n",
    "\\end{equation}"
   ]
  },
  {
   "cell_type": "markdown",
   "metadata": {},
   "source": [
    "The time-derivative can be approximated by a difference quotient.\n",
    "For simplicity and stability reasons, we choose a\n",
    "simple backward difference:\n",
    "\n",
    "\\begin{equation}\n",
    "\\left({\\partial u\\over\\partial t}\\right)^{(k+1)}\\approx {{u^{(k+1)} - u^{(k)}}\\over{\\delta t}},\n",
    "\\label{eq:diffusion0:BE}\n",
    "\\end{equation}\n",
    "where $\\delta t$ is the time discretization parameter.\n",
    "Inserting (\\ref{eq:diffusion0:BE}) in (\\ref{eq:diffusion0:pde1:tk}) yields\n",
    "\n",
    "\\begin{equation}\n",
    "{{u^{(k+1)} - u^{(k)}}\\over{\\delta t}} = \\Delta u^{(k+1)} + f^{(k+1)}.\n",
    "\\label{eq:diffusion0:pde1:BE}\n",
    "\\end{equation}\n",
    "\n",
    "This is our time-discrete version of the heat equation\n",
    "(\\ref{eq:diffusion0:pde1}), a so-called *backward Euler* or *implicit\n",
    "Euler* discretization."
   ]
  },
  {
   "cell_type": "markdown",
   "metadata": {},
   "source": [
    "We may reorder (\\ref{eq:diffusion0:pde1:BE}) so\n",
    "that the left-hand side contains the terms with the unknown $u^{(k+1)}$ and\n",
    "the right-hand side contains computed terms only. The result\n",
    "is a sequence of spatial (stationary) problems for $u^{(k+1)}$, assuming\n",
    "$u^(k)$ is known from the previous time step:\n",
    "\n",
    "\\begin{align}\n",
    "u^0 &= u_0, \\label{eq:diffusion0:pde1:u0}\\\\\n",
    "u^{(k+1)} - {\\delta t}\\Delta u^{(k+1)} &=  u^{(k)} + {\\delta t} f^{(k+1)},\\quad k=0,1,2,\\ldots\n",
    "\\label{eq:diffusion0:pde1:uk}\n",
    "\\end{align}"
   ]
  },
  {
   "cell_type": "markdown",
   "metadata": {},
   "source": [
    "Given $u_0$, we can solve for $u^0$, $u^1$, $u^2$, and so on.\n",
    "\n",
    "An alternative to (\\ref{eq:diffusion0:pde1:uk}), which can be\n",
    "convenient in implementations, is to collect\n",
    "all terms on one side of the equality sign:\n",
    "\n",
    "\\begin{equation}\n",
    "u^{(k+1)} - {\\delta t}\\Delta u^{(k+1)} - u^{(k)} - {\\delta t} f^{(k+1)} = 0,\\quad k=0,1,2,\\ldots\n",
    "\\label{eq:diffusion0:pde1:uk2}\n",
    "\\end{equation}"
   ]
  },
  {
   "cell_type": "markdown",
   "metadata": {},
   "source": [
    "We use a finite element method to solve\n",
    "(\\ref{eq:diffusion0:pde1:u0}) and either of the equations\n",
    "(\\ref{eq:diffusion0:pde1:uk}) or (\\ref{eq:diffusion0:pde1:uk2}). This\n",
    "requires turning the equations into weak forms.  As usual, we multiply\n",
    "by a test function $v\\in \\hat V$ and integrate second-derivatives by\n",
    "parts. Introducing the symbol $u$ for $u^{(k+1)}$ (which is natural in the\n",
    "program), the resulting weak form arising from\n",
    "formulation (\\ref{eq:diffusion0:pde1:uk})\n",
    "can be conveniently written in\n",
    "the standard notation:\n",
    "\n",
    "\\[ a(u,v)=L_{k+1}(v),\\]\n",
    "\n",
    "where\n",
    "\n",
    "\\begin{align}\n",
    "a(u,v) &= \\int_\\Omega\\left(uv + {\\delta t}\n",
    "\\boldsymbol{\\nabla} u\\cdot \\boldsymbol{\\nabla} v\\right) \\mbox{d}x, \\label{eq:diffusion0:pde1:a}\\\\\n",
    "L_{k+1}(v) &= \\int_\\Omega \\left(u^{(k)} + {\\delta t}  f^{(k+1)}\\right)v \\mbox{d}x.\n",
    "\\label{eq:diffusion0:pde1:L}\n",
    "\\end{align}"
   ]
  },
  {
   "cell_type": "markdown",
   "metadata": {},
   "source": [
    "The alternative form (\\ref{eq:diffusion0:pde1:uk2}) has an\n",
    "abstract formulation\n",
    "\n",
    "\\[ F_{k+1}(u;v) = 0,\\]\n",
    "\n",
    "where\n",
    "\n",
    "\\begin{equation}\n",
    "F_{k+1}(u; v) = \\int_\\Omega \\left(uv + {\\delta t}\n",
    "\\boldsymbol{\\nabla} u\\cdot \\boldsymbol{\\nabla} v -\n",
    "(u^{(k)} + {\\delta t} f^{(k+1)})v\\right) \\mbox{d}x.\n",
    "\\label{eq:diffusion0:pde1:F}\n",
    "\\end{equation}"
   ]
  },
  {
   "cell_type": "markdown",
   "metadata": {},
   "source": [
    "In addition to the variational problem to be solved in each time step,\n",
    "we also need to approximate the initial condition\n",
    "(\\ref{eq:diffusion0:pde1:u0}). This equation can also be turned into a\n",
    "variational problem:\n",
    "\n",
    "\\[ a_0(u,v)=L_0(v),\\]\n",
    "with\n",
    "\n",
    "\\begin{align}\n",
    "a_0(u,v) &= \\int_\\Omega uv \\mbox{d}x, \\label{eq:diffusion0:pde1:a0}\\\\\n",
    "L_0(v) &= \\int_\\Omega u_0 v \\mbox{d}x. \\label{eq:diffusion0:pde1:L0}\n",
    "\\end{align}"
   ]
  },
  {
   "cell_type": "markdown",
   "metadata": {},
   "source": [
    "When solving this variational problem, $u^{(0)}$ becomes the $L^2$\n",
    "projection of the given initial value $u^{(0)}$ into the finite element\n",
    "space. The alternative is to construct $u^{(0)}$ by just interpolating the\n",
    "initial value $u^{(0)}$; that is, if $$u^{(0)}=\\sum_{j=1}^n U_j^{(0)}\\phi_j,$$ we\n",
    "simply set $$U_j^{(0)}=u_0(x_j,y_j),$$ where $(x_j,y_j)$ are the coordinates\n",
    "of node number $j$. We refer to these two strategies as computing the\n",
    "initial condition by either *projection* or *interpolation*. Both\n",
    "operations are easy to compute in FEniCS through a single statement,\n",
    "using either the `project` or `interpolate` function. The most common\n",
    "choice is `project`, which computes an approximation to $u_0$, but in\n",
    "some applications where we want to verify the code by reproducing\n",
    "exact solutions, one must use `interpolate` (and we use such a test\n",
    "problem here!)."
   ]
  },
  {
   "cell_type": "markdown",
   "metadata": {},
   "source": [
    "In summary, we thus need to solve the following sequence of variational\n",
    "problems to compute the finite element solution to the heat equation:\n",
    "* find $u^{(0)}\\in V$ such that $a_0(u^{(0)},v)=L_0(v)$ holds for all $v\\in\\hat V$,\n",
    "* for $k=0,1,2,\\ldots$, find $u^{(k+1)}\\in V$\n",
    "such that $a(u^{(k+1)},v)=L_{k+1}(v)$ for all $v\\in\\hat V$."
   ]
  },
  {
   "cell_type": "markdown",
   "metadata": {},
   "source": [
    "## FEniCS implementation ##\n",
    "\n",
    "Our program needs to implement the time-stepping manually, but can\n",
    "rely on FEniCS to easily compute $a_0$, $L_0$, $a$, and $L$ (or\n",
    "$F_{k+1}$), and solve the linear systems for the unknowns."
   ]
  },
  {
   "cell_type": "markdown",
   "metadata": {},
   "source": [
    "### Test problem 1: A known analytical solution ###\n",
    "\n",
    "Just as for the Poisson problem, we construct a test problem \n",
    "that makes it easy to determine if the\n",
    "calculations are correct. Since we know that our first-order\n",
    "time-stepping scheme is exact for linear functions, we create a test\n",
    "problem which has a linear variation in time. We combine this with a\n",
    "quadratic variation in space. We thus take\n",
    "\n",
    "\\begin{equation} u = 1 + x^2 + \\alpha y^2 + \\beta t,\n",
    "\\label{eq:diffusion0:pde1:u0test}\n",
    "\\end{equation}\n",
    "\n",
    "which yields a function whose computed values at the nodes will be\n",
    "exact, regardless of the size of the elements and $\\delta t$, as long as\n",
    "the mesh is uniformly partitioned. \n",
    "\n",
    "By inserting\n",
    "(\\ref{eq:diffusion0:pde1:u0test}) into the heat equation\n",
    "(\\ref{eq:diffusion0:pde1}), we find that the right-hand side $f$ must\n",
    "be given by $$f(x,y,t)=\\beta - 2 - 2\\alpha.$$ The boundary value\n",
    "is $$u_D(x, y, t) = 1 + x^2 + \\alpha y^2 + \\beta t$$ and the initial\n",
    "value is $$u_0(x, y) = 1 + x^2 + \\alpha y^2.$$"
   ]
  },
  {
   "cell_type": "markdown",
   "metadata": {},
   "source": [
    "### FEniCS implementation ###"
   ]
  },
  {
   "cell_type": "code",
   "execution_count": 1,
   "metadata": {
    "collapsed": true
   },
   "outputs": [],
   "source": [
    "from __future__ import print_function\n",
    "from fenics import *\n",
    "import numpy as np\n",
    "%matplotlib inline"
   ]
  },
  {
   "cell_type": "markdown",
   "metadata": {},
   "source": [
    "We first create a mesh:"
   ]
  },
  {
   "cell_type": "code",
   "execution_count": 2,
   "metadata": {},
   "outputs": [
    {
     "data": {
      "image/png": "[encoded data removed]",
      "text/plain": [
       "<matplotlib.figure.Figure at 0x7eff7a526278>"
      ]
     },
     "metadata": {},
     "output_type": "display_data"
    }
   ],
   "source": [
    "# Create mesh and define function space\n",
    "nx = ny = 8\n",
    "mesh = UnitSquareMesh(nx, ny)\n",
    "plot(mesh)\n",
    "V = FunctionSpace(mesh, 'P', 1)"
   ]
  },
  {
   "cell_type": "markdown",
   "metadata": {},
   "source": [
    "A new programming issue is how to deal with functions that vary in\n",
    "space *and time*, such as the boundary condition $$u_D(x, y,\n",
    "t) = 1 + x^2 + \\alpha y^2 + \\beta t.$$ \n",
    "A natural solution is to use a\n",
    "FEniCS `Expression` with time $t$ as a parameter, in addition to the\n",
    "parameters $\\alpha$ and $\\beta$:"
   ]
  },
  {
   "cell_type": "code",
   "execution_count": 3,
   "metadata": {
    "collapsed": true
   },
   "outputs": [],
   "source": [
    "T = 2.0            # final time\n",
    "num_steps = 10     # number of time steps\n",
    "dt = T / num_steps # time step size\n",
    "\n",
    "alpha = 3; beta = 1.2\n",
    "u_D = Expression('1 + x[0]*x[0] + alpha*x[1]*x[1] + beta*t',\n",
    "                 degree=2, alpha=alpha, beta=beta, t=0)"
   ]
  },
  {
   "cell_type": "markdown",
   "metadata": {},
   "source": [
    "This `Expression` uses the components of `x` as independent\n",
    "variables, while `alpha`, `beta`, and `t` are parameters. The\n",
    "time `t` can later be updated by\n",
    "\n",
    "```\n",
    "u_D.t = t\n",
    "```\n",
    "\n",
    "The essential boundary conditions, along the entire boundary in this case,\n",
    "are implemented in the same way as we have previously implemented the\n",
    "boundary conditions for the Poisson problem:"
   ]
  },
  {
   "cell_type": "code",
   "execution_count": 4,
   "metadata": {
    "collapsed": true
   },
   "outputs": [],
   "source": [
    "def boundary(x, on_boundary):\n",
    "    return on_boundary\n",
    "\n",
    "bc = DirichletBC(V, u_D, boundary)"
   ]
  },
  {
   "cell_type": "markdown",
   "metadata": {},
   "source": [
    "We shall use the variable `u` for the unknown $u^{(k+1)}$ at the new\n",
    "time step and the variable `u_k` for $u^{(k)}$ at the previous time\n",
    "step. The initial value of `u_k` can be computed by either projection\n",
    "or interpolation of $u_0$. Since we set `t = 0` for the boundary value\n",
    "`u_D`, we can use `u_D` to specify the initial condition $u_0$:"
   ]
  },
  {
   "cell_type": "code",
   "execution_count": 5,
   "metadata": {},
   "outputs": [
    {
     "data": {
      "text/plain": [
       "<matplotlib.tri.tricontour.TriContourSet at 0x7eff77cc5198>"
      ]
     },
     "execution_count": 5,
     "metadata": {},
     "output_type": "execute_result"
    },
    {
     "data": {
      "image/png": "[encoded data removed]",
      "text/plain": [
       "<matplotlib.figure.Figure at 0x7eff77fb9390>"
      ]
     },
     "metadata": {},
     "output_type": "display_data"
    }
   ],
   "source": [
    "u_k = interpolate(u_D, V)\n",
    "\n",
    "plot(u_k)"
   ]
  },
  {
   "cell_type": "markdown",
   "metadata": {},
   "source": [
    "or you can use \n",
    "```\n",
    "u_k = interpolate(u_D, V)\n",
    "```\n",
    "\n",
    "**Warning**: Projecting versus interpolating the initial condition\n",
    "To actually recover the exact solution\n",
    "(\\ref{eq:diffusion0:pde1:u0test}) to machine precision, it is important\n",
    "to compute the discrete initial condition by interpolating $u_0$. This\n",
    "ensures that the degrees of freedom are exact (to machine precision)\n",
    "at $t=0$. Projection results in approximate values at the nodes."
   ]
  },
  {
   "cell_type": "markdown",
   "metadata": {},
   "source": [
    "We may either define $a$ or $L$ according to the formulas above, or we\n",
    "may just define $F$ and ask FEniCS to figure out which terms should go\n",
    "into the bilinear form $a$ and which should go into the linear form\n",
    "$L$. The latter is convenient, especially in more complicated\n",
    "problems, so we illustrate that construction of $a$ and $L$:"
   ]
  },
  {
   "cell_type": "code",
   "execution_count": 6,
   "metadata": {
    "collapsed": true
   },
   "outputs": [],
   "source": [
    "u = TrialFunction(V)\n",
    "v = TestFunction(V)\n",
    "f = Constant(beta - 2 - 2*alpha)\n",
    "\n",
    "F = u*v*dx + dt*dot(grad(0.5*(u+u_k)), grad(v))*dx - (u_k + dt*f)*v*dx\n",
    "a, L = lhs(F), rhs(F)"
   ]
  },
  {
   "cell_type": "markdown",
   "metadata": {},
   "source": [
    "Finally, we perform the time-stepping in a loop:"
   ]
  },
  {
   "cell_type": "code",
   "execution_count": 7,
   "metadata": {},
   "outputs": [
    {
     "name": "stdout",
     "output_type": "stream",
     "text": [
      "t = 0.20: error = 7.55e-15\n",
      "t = 0.40: error = 5.77e-15\n",
      "t = 0.60: error = 7.11e-15\n",
      "t = 0.80: error = 7.55e-15\n",
      "t = 1.00: error = 7.99e-15\n",
      "t = 1.20: error = 8.44e-15\n",
      "t = 1.40: error = 8.44e-15\n",
      "t = 1.60: error = 8.88e-15\n",
      "t = 1.80: error = 1.15e-14\n",
      "t = 2.00: error = 9.77e-15\n"
     ]
    },
    {
     "data": {
      "text/plain": [
       "<matplotlib.tri.tricontour.TriContourSet at 0x7eff78291668>"
      ]
     },
     "execution_count": 7,
     "metadata": {},
     "output_type": "execute_result"
    },
    {
     "data": {
      "image/png": "[encoded data removed]",
      "text/plain": [
       "<matplotlib.figure.Figure at 0x7eff78239828>"
      ]
     },
     "metadata": {},
     "output_type": "display_data"
    }
   ],
   "source": [
    "u = Function(V)\n",
    "t = 0\n",
    "\n",
    "for k in range(num_steps):\n",
    "\n",
    "    # Update current time\n",
    "    t += dt\n",
    "    u_D.t = t\n",
    "\n",
    "    # Solve variational problem\n",
    "    solve(a == L, u, bc)\n",
    "\n",
    "    # Compute error\n",
    "    u_e = interpolate(u_D, V)\n",
    "    error = np.abs(u_e.vector().array() -\n",
    "                   u.vector().array()).max()\n",
    "    print('t = %.2f: error = %.3g' % (t, error))\n",
    "\n",
    "    # Update previous solution\n",
    "    u_k.assign(u)\n",
    "    \n",
    "plot(u_k)"
   ]
  },
  {
   "cell_type": "markdown",
   "metadata": {},
   "source": [
    "In the last step of the time-stepping loop, we assign the values of\n",
    "the variable `u` (the new computed solution) to the variable `u_k`\n",
    "containing the values at the previous time step. This must be done\n",
    "using the `assign` member function. If we instead try to do `u_k = u`,\n",
    "we will set the `u_k` variable to be the *same* variable as `u`\n",
    "which is not what we want. (We need two variables, one for the values\n",
    "at the previous time step and one for the values at the current time\n",
    "step.)"
   ]
  },
  {
   "cell_type": "markdown",
   "metadata": {},
   "source": [
    "**Warning**: Remember to update expression objects with the current time!\n",
    "Inside the time loop, observe that `u_D.t` must be updated before the\n",
    "`solve` statement to enforce computation of Dirichlet conditions at\n",
    "the current time step. A Dirichlet condition defined in terms of an\n",
    "`Expression` looks up and applies the value of a parameter such as `t`\n",
    "when it gets evaluated and applied to the linear system."
   ]
  },
  {
   "cell_type": "markdown",
   "metadata": {},
   "source": [
    "For the Poisson example, we used the function\n",
    "`compute_vertex_values` to extract the function values at the\n",
    "vertices. Here we illustrate an alternative method to extract the\n",
    "vertex values, by calling the function `vector`, which returns\n",
    "the vector of degrees of freedom. For a $\\mathsf{P}_1$\n",
    "function space, this vector of degrees of freedom will be equal to\n",
    "the array of vertex values obtained by calling\n",
    "`compute_vertex_values`, albeit possibly in a different order."
   ]
  },
  {
   "cell_type": "markdown",
   "metadata": {},
   "source": [
    "This example program can be found in the file [ft03_heat.py](https://fenicsproject.org/pub/tutorial/python/vol1/ft03_heat.py)."
   ]
  },
  {
   "cell_type": "markdown",
   "metadata": {},
   "source": [
    "### Test problem 2: Diffusion of a Gaussian function ###\n",
    "\n",
    "Let us now solve a more interesting test problem, namely the diffusion of\n",
    "a Gaussian hill. We take the initial value to be\n",
    "\n",
    "\\[ u_0(x,y)= e^{-ax^2 - ay^2}\\]\n",
    "\n",
    "for $a = 5$ on the domain $[-2,2]\\times [-2,2]$. For this\n",
    "problem we will use homogeneous Dirichlet boundary conditions ($u_D = 0$)."
   ]
  },
  {
   "cell_type": "markdown",
   "metadata": {},
   "source": [
    "### FEniCS implementation ###\n",
    "\n",
    "Which are the required changes to our previous program? One major\n",
    "change is that the domain is no longer a unit square. The new domain can\n",
    "be created easily in FEniCS using `RectangleMesh`:"
   ]
  },
  {
   "cell_type": "code",
   "execution_count": 8,
   "metadata": {},
   "outputs": [
    {
     "data": {
      "image/png": "[encoded data removed]",
      "text/plain": [
       "<matplotlib.figure.Figure at 0x7eff77cbff60>"
      ]
     },
     "metadata": {},
     "output_type": "display_data"
    }
   ],
   "source": [
    "nx = ny = 30\n",
    "mesh = RectangleMesh(Point(-2, -2), Point(2, 2), nx, ny)\n",
    "plot(mesh)\n",
    "\n",
    "V = FunctionSpace(mesh, 'P', 1)"
   ]
  },
  {
   "cell_type": "markdown",
   "metadata": {},
   "source": [
    "Note that we have used a much higher resolution than before to better\n",
    "resolve the features of the solution. We also need to redefine the\n",
    "initial condition and the boundary condition. Both are easily changed by\n",
    "defining a new `Expression` and by setting $u = 0$ on the boundary."
   ]
  },
  {
   "cell_type": "code",
   "execution_count": 9,
   "metadata": {},
   "outputs": [
    {
     "data": {
      "image/png": "[encoded data removed]",
      "text/plain": [
       "<matplotlib.figure.Figure at 0x7eff753386d8>"
      ]
     },
     "metadata": {},
     "output_type": "display_data"
    }
   ],
   "source": [
    "# Define initial value\n",
    "u_0 = Expression('exp(-a*pow(x[0], 2) - a*pow(x[1], 2))',\n",
    "                 degree=2, a=5)\n",
    "u_k = interpolate(u_0, V)\n",
    "\n",
    "plot(u_k)\n",
    "\n",
    "# Define boundary condition\n",
    "def boundary(x, on_boundary):\n",
    "    return on_boundary\n",
    "\n",
    "bc = DirichletBC(V, Constant(0), boundary)"
   ]
  },
  {
   "cell_type": "markdown",
   "metadata": {},
   "source": [
    "We can now define the variational problem."
   ]
  },
  {
   "cell_type": "code",
   "execution_count": 10,
   "metadata": {
    "collapsed": true
   },
   "outputs": [],
   "source": [
    "# Define variational problem\n",
    "u = TrialFunction(V)\n",
    "v = TestFunction(V)\n",
    "f = Constant(0)\n",
    "\n",
    "T = 2.0            # final time\"\n",
    "num_steps = 50     # number of time steps\n",
    "dt = T / num_steps # time step size\n",
    "\n",
    "F = u*v*dx + dt*dot(grad(u), grad(v))*dx - (u_k + dt*f)*v*dx\n",
    "a, L = lhs(F), rhs(F)"
   ]
  },
  {
   "cell_type": "markdown",
   "metadata": {},
   "source": [
    "To be able to visualize the solution in an external program such as\n",
    "ParaView, we will save the solution to a file in VTK format in each time\n",
    "step. We do this by first creating a `File` with the suffix `.pvd`:\n",
    "```\n",
    "vtkfile = File('heat_gaussian/solution.pvd')\n",
    "```\n",
    "and inside the time loop, we may then append the solution values to\n",
    "this file:\n",
    "```\n",
    "vtkfile << (u, t)\n",
    "```"
   ]
  },
  {
   "cell_type": "markdown",
   "metadata": {},
   "source": [
    "This line is called in each time step, resulting in the creation of\n",
    "a new file with suffix `.vtu` containing all data for the time\n",
    "step (the mesh and the vertex values). The file\n",
    "`heat_gaussian/solution.pvd` will contain the time values and\n",
    "references to the `.vtu` file, which means that the `.pvd` file will be a\n",
    "single small file that points to a large number of `.vtu` files\n",
    "containing the actual data. Note that we choose to store the solution\n",
    "to a subdirectory named `heat_gaussian`. This is to avoid cluttering\n",
    "our source directory with all the generated data files.\n",
    "One does not need to create the directory before running the\n",
    "program as it will be created automatically by FEniCS."
   ]
  },
  {
   "cell_type": "code",
   "execution_count": 11,
   "metadata": {},
   "outputs": [
    {
     "data": {
      "text/plain": [
       "<matplotlib.tri.tricontour.TriContourSet at 0x7eff74ba5dd8>"
      ]
     },
     "execution_count": 11,
     "metadata": {},
     "output_type": "execute_result"
    },
    {
     "data": {
      "image/png": "[encoded data removed]",
      "text/plain": [
       "<matplotlib.figure.Figure at 0x7eff75044a58>"
      ]
     },
     "metadata": {},
     "output_type": "display_data"
    }
   ],
   "source": [
    "# Create VTK file for saving solution\n",
    "vtkfile = File('heat_gaussian/solution.pvd')\n",
    "\n",
    "# Time-stepping\n",
    "u = Function(V)\n",
    "t = 0\n",
    "for k in range(num_steps):\n",
    "\n",
    "    # Update current time\n",
    "    t += dt\n",
    "\n",
    "    # Compute solution\n",
    "    solve(a == L, u, bc)\n",
    "\n",
    "    # Save to file and plot solution\n",
    "    vtkfile << (u, t)\n",
    "\n",
    "    # Update previous solution\n",
    "    u_k.assign(u)\n",
    "    \n",
    "plot(u_k)"
   ]
  },
  {
   "cell_type": "markdown",
   "metadata": {},
   "source": [
    "This example program can be found in the file [ft04_heat_gaussian.py](https://fenicsproject.org/pub/tutorial/python/vol1/ft04_heat_gaussian.py)."
   ]
  },
  {
   "cell_type": "markdown",
   "metadata": {},
   "source": [
    "## Visualization in ParaView ##\n",
    "\n",
    "To visualize the diffusion of the Gaussian hill, start `ParaView`,\n",
    "choose _File--Open..._, open `heat_gaussian/solution.pvd`, and click\n",
    "_Apply_ in the Properties pane. Click on the play button to display\n",
    "an animation of the solution. To save the animation to a file, click\n",
    "_File--Save Animation..._ and save the file to a desired file format,\n",
    "for example AVI or Ogg/Theora.\n",
    "Once the animation has been saved to a file, you can play the animation\n",
    "offline using a player such as `mplayer` or `VLC`, or upload your\n",
    "animation to YouTube."
   ]
  },
  {
   "cell_type": "markdown",
   "metadata": {},
   "source": [
    "## Excercise ##\n",
    "\n",
    "Change the code for Test problem 2 to use trapzoid method in time:\n",
    "\\begin{equation}\n",
    "\\frac{u^{(k+1)}-u^{(k)}}{\\delta t}=\\frac{\\Delta u^{(k)}+\\Delta u^{(k+1)}}{2}+f^{(k+\\frac{1}{2})}.\n",
    "\\label{eq:diffusion0:pde1:trapzoid}\n",
    "\\end{equation}"
   ]
  },
  {
   "cell_type": "markdown",
   "metadata": {},
   "source": [
    "**Acknowledgment**: This notebook was adapted from Chapter 3 of [The FEniCS Tutorial Volume I](https://fenicsproject.org/pub/tutorial/sphinx1/) by Hans Petter Langtangen and Anders Logg, released under CC Attribution 4.0 license."
   ]
  }
 ],
 "metadata": {
  "kernelspec": {
   "display_name": "Python 3",
   "language": "python",
   "name": "python3"
  },
  "language_info": {
   "codemirror_mode": {
    "name": "ipython",
    "version": 3
   },
   "file_extension": ".py",
   "mimetype": "text/x-python",
   "name": "python",
   "nbconvert_exporter": "python",
   "pygments_lexer": "ipython3",
   "version": "3.6.8"
  },
  "latex_envs": {
   "LaTeX_envs_menu_present": true,
   "autoclose": false,
   "autocomplete": true,
   "bibliofile": "biblio.bib",
   "cite_by": "apalike",
   "current_citInitial": 1,
   "eqLabelWithNumbers": true,
   "eqNumInitial": 1,
   "hotkeys": {
    "equation": "Ctrl-E",
    "itemize": "Ctrl-I"
   },
   "labels_anchors": false,
   "latex_user_defs": false,
   "report_style_numbering": false,
   "user_envs_cfg": false
  }
 },
 "nbformat": 4,
 "nbformat_minor": 2
}
