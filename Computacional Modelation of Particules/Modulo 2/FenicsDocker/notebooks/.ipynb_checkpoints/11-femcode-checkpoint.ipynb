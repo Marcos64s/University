{
 "cells": [
  {
   "cell_type": "markdown",
   "metadata": {},
   "source": [
    "## Simple Finite Element Code in 2-D ##\n",
    "\n",
    "In this example, we use the Galerkin method to solve the Poisson equation \n",
    "$$-\\Delta u = f$$\n",
    "over a unit square, with $f(x,y) = 1$ and \n",
    "$$u_D = 0$$\n",
    "along the four sies."
   ]
  },
  {
   "cell_type": "code",
   "execution_count": null,
   "metadata": {
    "collapsed": true
   },
   "outputs": [],
   "source": [
    "function [p,t,b] = squaregrid(m,n)\n",
    "% create grid of N=mn nodes to be listed in p\n",
    "\n",
    "    % generate mesh of T=2(m-1)(n-1) right triangles in unit square\n",
    "    [x,y]=ndgrid((0:m-1)/(m-1),(0:n-1)/(n-1)); % matlab forms x and y lists\n",
    "    p=[x(:),y(:)]; % N by 2 matrix listing x,y coordinates of all N=mn nodes\n",
    "\n",
    "    t=[1,2,m+2; 1,m+2,m+1]; % 3 node numbers for two triangles in first square\n",
    "    t=kron(t, ones(m-1,1))+kron(ones(size(t)), (0:m-2)');\n",
    "\n",
    "    % now t lists 3 node numbers of 2(m-1) triangles in the first mesh row\n",
    "    t=kron(t, ones(n-1,1))+kron(ones(size(t)), (0:n-2)'*m);\n",
    "\n",
    "    % final t lists 3 node numbers of all triangles in T by 3 matrix \n",
    "    b=[1:m,m+1:m:m*n,2*m:m:m*n,m*n-m+2:m*n-1]; % bottom, left, right, top \n",
    "    % b = numbers of all 2m+2n **boundary nodes** preparing for U(b)=0\n",
    "end"
   ]
  },
  {
   "cell_type": "code",
   "execution_count": null,
   "metadata": {
    "collapsed": true
   },
   "outputs": [],
   "source": [
    "function [K, F] = assemble(p, t)\n",
    "% K and F for any mesh of triangles: linear phi's\n",
    "\n",
    "    % number of nodes, number of triangles\n",
    "    N = size(p,1); T = size(t,1);\n",
    "    \n",
    "    % p lists x,y coordinates of N nodes, t lists triangles by 3 node numbers\n",
    "    K = sparse(N, N); % zero matrix in sparse format: zeros(N) would be \"dense\"\n",
    "    F = zeros(N, 1); % load vector F to hold integrals of phi's times load f(x,y)\n",
    "\n",
    "    for e = 1:T  % integration over one triangular element at a time\n",
    "      nodes = t(e,:); % row of t = node numbers of the 3 corners of triangle e\n",
    "      \n",
    "      Pe = [ones(3,1), p(nodes,:)]; % 3 by 3 matrix with rows=[1 xcorner ycorner] \n",
    "      Area = abs(det(Pe))/2; % area of triangle e = half of parallelogram area\n",
    "      C = inv(Pe); % columns of C are coeffs in a+bx+cy to give phi=1,0,0 at nodes\n",
    "\n",
    "      % now compute 3 by 3 Ke and 3 by 1 Fe for element e\n",
    "      grad = C(2:3,:);\n",
    "      Ke = Area*grad'*grad; % element matrix from slopes b,c in grad\n",
    "      Fe = Area/3; % integral of phi over triangle is volume of pyramid: f(x,y)=1\n",
    "\n",
    "      % multiply Fe by f at centroid for load f(x,y): one-point quadrature!\n",
    "      % centroid would be mean(p(nodes,:)) = average of 3 node coordinates\n",
    "      K(nodes,nodes) = K(nodes,nodes)+Ke; % add Ke to 9 entries of global K\n",
    "      F(nodes) = F(nodes) + Fe; % add Fe to 3 components of load vector F\n",
    "    end   % all T element matrices and vectors now assembled into K and F\n",
    "end"
   ]
  },
  {
   "cell_type": "code",
   "execution_count": null,
   "metadata": {
    "collapsed": true
   },
   "outputs": [],
   "source": [
    "function [Kb, Fb] = dirichlet(K, F, b) \n",
    "% assembled K was singular! K*ones(N,1)=0\n",
    "\n",
    "    % Implement Dirichlet boundary conditions U(b)=0 at nodes in list b\n",
    "    K(b, :) = 0; \n",
    "    K(:, b) = 0; \n",
    "    F(b) = 0;\n",
    "\n",
    "    % put I into boundary submatrix of K\n",
    "    K(b, b) = speye(length(b), length(b));\n",
    "    \n",
    "     % Stiffness matrix Kb (sparse format) and load vector Fb\n",
    "    Kb = K; Fb = F;\n",
    "end"
   ]
  },
  {
   "cell_type": "markdown",
   "metadata": {},
   "source": [
    "First, we generate a grid with m-by-n points"
   ]
  },
  {
   "cell_type": "code",
   "execution_count": null,
   "metadata": {},
   "outputs": [],
   "source": [
    "m=11; n=11; % includes boundary nodes, mesh spacing 1/(m-1) and 1/(n-1)\n",
    "[p, t, b] = squaregrid(m, n);\n",
    "\n",
    "trimesh(t, p(:,1), p(:,2))"
   ]
  },
  {
   "cell_type": "markdown",
   "metadata": {},
   "source": [
    "Next, we assemble the matrix and apply Dirichlet boundary conditions."
   ]
  },
  {
   "cell_type": "code",
   "execution_count": null,
   "metadata": {
    "collapsed": true
   },
   "outputs": [],
   "source": [
    "[K, F] = assemble(p, t)\n",
    "[Kb, Fb] = dirichlet(K, F, b) "
   ]
  },
  {
   "cell_type": "markdown",
   "metadata": {},
   "source": [
    "Finaly, we solve the linear system and plot the solution"
   ]
  },
  {
   "cell_type": "code",
   "execution_count": null,
   "metadata": {},
   "outputs": [],
   "source": [
    "% Solving for the vector U will produce U(b)=0 at boundary nodes\n",
    "% The FEM approximation is U_1 phi_1 + ... + U_N phi_N\n",
    "U = Kb \\ Fb;  \n",
    "\n",
    "% Plot the FEM approximation U(x,y) with values U_1 to U_N at the nodes \n",
    "trisurf(t, p(:,1), p(:,2), 0*p(:,1), U, 'edgecolor', 'k', 'facecolor', 'interp');\n",
    "view(2), axis equal, colorbar"
   ]
  },
  {
   "cell_type": "markdown",
   "metadata": {},
   "source": [
    "**Achnowledgements**: This code is based on the Code in Section 3.6 of Computational Science and Engineering by Gilber Strang, available at http://math.mit.edu/~gs/cse/."
   ]
  }
 ],
 "metadata": {
  "kernelspec": {
   "display_name": "Octave",
   "language": "octave",
   "name": "octave"
  },
  "language_info": {
   "file_extension": ".m",
   "help_links": [
    {
     "text": "GNU Octave",
     "url": "https://www.gnu.org/software/octave/support.html"
    },
    {
     "text": "Octave Kernel",
     "url": "https://github.com/Calysto/octave_kernel"
    },
    {
     "text": "MetaKernel Magics",
     "url": "https://github.com/calysto/metakernel/blob/master/metakernel/magics/README.md"
    }
   ],
   "mimetype": "text/x-octave",
   "name": "octave",
   "version": "4.2.1"
  },
  "latex_envs": {
   "LaTeX_envs_menu_present": true,
   "autoclose": false,
   "autocomplete": true,
   "bibliofile": "biblio.bib",
   "cite_by": "apalike",
   "current_citInitial": 1,
   "eqLabelWithNumbers": true,
   "eqNumInitial": 1,
   "hotkeys": {
    "equation": "Ctrl-E",
    "itemize": "Ctrl-I"
   },
   "labels_anchors": false,
   "latex_user_defs": false,
   "report_style_numbering": false,
   "user_envs_cfg": false
  }
 },
 "nbformat": 4,
 "nbformat_minor": 2
}
