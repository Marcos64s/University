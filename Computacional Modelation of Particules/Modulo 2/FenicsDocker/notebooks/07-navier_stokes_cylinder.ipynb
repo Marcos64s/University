{
 "cells": [
  {
   "cell_type": "markdown",
   "metadata": {},
   "source": [
    "# Case Study: Flow past a cylinder\n",
    "\n",
    "We solve a relatively more challenging problem: flow past a \n",
    "circular cylinder. The geometry is as shown below:\n",
    "![Geoetry](http://www.featflow.de/media/dfg_bench2_2d/geometry.png)\n",
    "\n",
    "This problem was taken from the [\"FEATFLOW/1995-DFG benchmark suite\"](\n",
    "http://www.featflow.de/en/benchmarks/cfdbenchmarking/flow/dfg_benchmark2_re100.html).\n",
    "Notice the slightly perturbed and unsymmetric geometry.\n",
    "\n",
    "The kinematic viscosity is\n",
    "given by $\\nu = 0.001 = \\mu/\\rho$ and the inflow velocity profile is\n",
    "specified as\n",
    "$$  u(x, y, t) = \\left(1.5 \\cdot \\frac{4y(0.41 - y)}{0.41^2}, 0\\right),$$\n",
    "\n",
    "which has a maximum magnitude of $1.5$ at $y = 0.41/2$. We do not\n",
    "use any scaling for this problem since all exact parameters are known."
   ]
  },
  {
   "cell_type": "markdown",
   "metadata": {},
   "source": [
    "## FEniCS implementation\n",
    "\n",
    "### Generate mesh and function space\n",
    "FEniCS supports the creation of relatively complex meshes via a technique\n",
    "called *constructive solid geometry* (CSG), which lets us define\n",
    "geometries in terms of simple shapes (primitives) and set operations:\n",
    "union, intersection, and set difference. The set operations are\n",
    "encoded in FEniCS using the operators `+` (union), `*` (intersection),\n",
    "and `-` (set difference). To access the CSG functionality in FEniCS,\n",
    "one must import the FEniCS module `mshr` which provides the\n",
    "extended meshing functionality of FEniCS."
   ]
  },
  {
   "cell_type": "code",
   "execution_count": 1,
   "metadata": {},
   "outputs": [],
   "source": [
    "from fenics import *\n",
    "from mshr import *\n",
    "import numpy as np\n",
    "%matplotlib inline"
   ]
  },
  {
   "cell_type": "markdown",
   "metadata": {},
   "source": [
    "The geometry for the cylinder flow test problem can be defined easily\n",
    "by first defining the rectangular channel and then subtracting the\n",
    "circle:"
   ]
  },
  {
   "cell_type": "code",
   "execution_count": 2,
   "metadata": {
    "collapsed": true
   },
   "outputs": [],
   "source": [
    "channel = Rectangle(Point(0, 0), Point(2.2, 0.41))\n",
    "cylinder = Circle(Point(0.2, 0.2), 0.05, 16)\n",
    "domain = channel - cylinder"
   ]
  },
  {
   "cell_type": "markdown",
   "metadata": {},
   "source": [
    "Note that in the above, we passed 16 for the third argument when calling `Circle` to request explicitly using 16 segments to represent the circle. This is necessary to circumvent a bug in `mshr` as of release 2016.02, which would generate a triangle to represent the circle if the third argument was missing.\n",
    "\n",
    "We may then generate the mesh by calling the function `generate_mesh`, plot the mesh, and save it to a file for inspection:"
   ]
  },
  {
   "cell_type": "code",
   "execution_count": 3,
   "metadata": {},
   "outputs": [
    {
     "data": {
      "image/png": "[encoded data removed]",
      "text/plain": [
       "<matplotlib.figure.Figure at 0x7ff6ecc71198>"
      ]
     },
     "metadata": {},
     "output_type": "display_data"
    }
   ],
   "source": [
    "mesh = generate_mesh(domain, 64)\n",
    "plot(mesh)\n",
    "File('navier_stokes_cylinder/cylinder.pvd') << mesh"
   ]
  },
  {
   "cell_type": "markdown",
   "metadata": {},
   "source": [
    "Here the argument `64` indicates that we want to resolve the geometry\n",
    "with 64 cells across its diameter (the channel length)."
   ]
  },
  {
   "cell_type": "markdown",
   "metadata": {},
   "source": [
    "We define the function spaces based on the mesh."
   ]
  },
  {
   "cell_type": "code",
   "execution_count": 4,
   "metadata": {
    "collapsed": true
   },
   "outputs": [],
   "source": [
    "# Define function spaces\n",
    "V = VectorFunctionSpace(mesh, 'P', 2)\n",
    "Q = FunctionSpace(mesh, 'P', 1)"
   ]
  },
  {
   "cell_type": "markdown",
   "metadata": {},
   "source": [
    "###  Specify boundary conditions\n",
    "To solve the cylinder test problem, we only need to make a few minor\n",
    "changes to the code we wrote for the channel flow test\n",
    "case. Besides defining the new mesh, the only change we need to make\n",
    "is to modify the boundary conditions and the time step size. The\n",
    "boundaries are specified as follows:"
   ]
  },
  {
   "cell_type": "code",
   "execution_count": 5,
   "metadata": {},
   "outputs": [],
   "source": [
    "inflow   = 'near(x[0], 0)'\n",
    "outflow  = 'near(x[0], 2.2)'\n",
    "walls    = 'near(x[1], 0) || near(x[1], 0.41)'\n",
    "cylinder = 'on_boundary && x[0]>0.1 && x[0]<0.3 && x[1]>0.1 && x[1]<0.3'"
   ]
  },
  {
   "cell_type": "markdown",
   "metadata": {},
   "source": [
    "The last line may seem cryptic before you catch the idea: we want to pick\n",
    "out all boundary points (`on_boundary`) that also lie within the 2D\n",
    "domain $[0.1,0.3]\\times [0.1,0.3]$. The only possible points are then the \n",
    "points on the circular boundary!\n",
    "\n",
    "We then collect the boundary conditions into lists."
   ]
  },
  {
   "cell_type": "code",
   "execution_count": 6,
   "metadata": {},
   "outputs": [
    {
     "name": "stderr",
     "output_type": "stream",
     "text": [
      "--- Instant: compiling ---\n",
      "--- Instant: compiling ---\n",
      "--- Instant: compiling ---\n",
      "--- Instant: compiling ---\n"
     ]
    }
   ],
   "source": [
    "# Define inflow profile\n",
    "inflow_profile = ('4.0*1.5*x[1]*(0.41 - x[1]) / pow(0.41, 2)', '0')\n",
    "\n",
    "# Define boundary conditions\n",
    "bcu_inflow = DirichletBC(V, Expression(inflow_profile, degree=2), inflow)\n",
    "bcu_walls = DirichletBC(V, Constant((0, 0)), walls)\n",
    "bcu_cylinder = DirichletBC(V, Constant((0, 0)), cylinder)\n",
    "bcp_outflow = DirichletBC(Q, Constant(0), outflow)\n",
    "bcu = [bcu_inflow, bcu_walls, bcu_cylinder]\n",
    "bcp = [bcp_outflow]"
   ]
  },
  {
   "cell_type": "markdown",
   "metadata": {},
   "source": [
    "### Specify parameters"
   ]
  },
  {
   "cell_type": "markdown",
   "metadata": {},
   "source": [
    "We specify density, viscosity, and timestep. We will set the time steps. \n",
    "relatively small time step to compute the solution (a time step that\n",
    "is too large will make the solution blow up)."
   ]
  },
  {
   "cell_type": "code",
   "execution_count": 7,
   "metadata": {
    "collapsed": true
   },
   "outputs": [],
   "source": [
    "mu = 0.001         # dynamic viscosity\n",
    "rho = 1            # density\n",
    "\n",
    "T = 5.0            # final time\n",
    "num_steps = 5000   # number of time steps\n",
    "dt = T / num_steps # time step size"
   ]
  },
  {
   "cell_type": "markdown",
   "metadata": {},
   "source": [
    "### Define the variational problems\n",
    "\n",
    "The definition of the variational problem is the same as before."
   ]
  },
  {
   "cell_type": "code",
   "execution_count": 8,
   "metadata": {},
   "outputs": [
    {
     "name": "stdout",
     "output_type": "stream",
     "text": [
      "Calling FFC just-in-time (JIT) compiler, this may take some time.\n"
     ]
    }
   ],
   "source": [
    "# Define trial and test functions\n",
    "u = TrialFunction(V)\n",
    "v = TestFunction(V)\n",
    "p = TrialFunction(Q)\n",
    "q = TestFunction(Q)\n",
    "\n",
    "# Define symmetric gradient\n",
    "def epsilon(u):\n",
    "    return sym(nabla_grad(u))\n",
    "\n",
    "# Define stress tensor\n",
    "def sigma(u, p):\n",
    "    return 2*mu*epsilon(u) - p*Identity(len(u))\n",
    "\n",
    "# Define functions for solutions at previous and current time steps\n",
    "u_k = Function(V)\n",
    "u_  = Function(V)\n",
    "\n",
    "p_k = Function(Q)\n",
    "p_  = Function(Q)\n",
    "\n",
    "# Define expressions used in variational forms\n",
    "f  = Constant((0, 0))\n",
    "DT = Constant(dt)\n",
    "mu = Constant(mu)\n",
    "\n",
    "u_mid  = 0.5*(u_k + u)\n",
    "n  = FacetNormal(mesh)\n",
    "\n",
    "# Define variational problem for step 1\n",
    "F1 = rho*dot((u - u_k) / DT, v)*dx \\\n",
    "   + rho*dot(dot(u_k, nabla_grad(u_k)), v)*dx \\\n",
    "   + inner(sigma(u_mid, p_k), epsilon(v))*dx \\\n",
    "   + dot(p_k*n, v)*ds - dot(mu*nabla_grad(u_mid)*n, v)*ds \\\n",
    "   - dot(f, v)*dx\n",
    "\n",
    "a1 = lhs(F1)\n",
    "L1 = rhs(F1)\n",
    "A1 = assemble(a1)\n",
    "[bc.apply(A1) for bc in bcu]\n",
    "\n",
    "# Define variational problem for step 2\n",
    "a2 = dot(nabla_grad(p), nabla_grad(q))*dx\n",
    "L2 = dot(nabla_grad(p_k), nabla_grad(q))*dx - (1/DT)*div(u_)*q*dx\n",
    "A2 = assemble(a2)\n",
    "[bc.apply(A2) for bc in bcp]\n",
    "\n",
    "# Define variational problem for step 3\n",
    "a3 = dot(u, v)*dx\n",
    "L3 = dot(u_, v)*dx - DT*dot(nabla_grad(p_ - p_k), v)*dx\n",
    "A3 = assemble(a3)"
   ]
  },
  {
   "cell_type": "markdown",
   "metadata": {},
   "source": [
    "## Time-stepping\n",
    "\n",
    "We can now perform time-stepping. We will also add a *progress bar* so that \n",
    "we can follow the progress of our computation. This can be done as follows:"
   ]
  },
  {
   "cell_type": "code",
   "execution_count": 9,
   "metadata": {
    "collapsed": true
   },
   "outputs": [],
   "source": [
    "progress = Progress('Time-stepping')\n",
    "set_log_level(PROGRESS)"
   ]
  },
  {
   "cell_type": "markdown",
   "metadata": {},
   "source": [
    "**Log levels and printing in FEniCS**. Notice the call to `set_log_level(PROGRESS)` which is essential to\n",
    "make FEniCS actually display the progress bar. FEniCS is actually\n",
    "quite informative about what is going on during a computation but the\n",
    "amount of information printed to screen depends on the current log\n",
    "level. Only messages with a priority higher than or equal to the\n",
    "current log level will be displayed. The predefined log levels in\n",
    "FEniCS are\n",
    "`DBG`,\n",
    "`TRACE`,\n",
    "`PROGRESS`,\n",
    "`INFO`,\n",
    "`WARNING`,\n",
    "`ERROR`, and\n",
    "`CRITICAL`. By default, the log level is set to `INFO` which means\n",
    "that messages at level `DBG`, `TRACE`, and `PROGRESS` will not be\n",
    "printed. Users may print messages using the FEniCS functions `info`,\n",
    "`warning`, and `error` which will print messages at the obvious log\n",
    "level (and in the case of `error` also throw an exception and\n",
    "exit). One may also use the call `log(level, message)` to print a\n",
    "message at a specific log level."
   ]
  },
  {
   "cell_type": "markdown",
   "metadata": {},
   "source": [
    "We also make another change: since the system(s) of linear equations are \n",
    "significantly larger than for the simple channel flow test problem, we choose \n",
    "to use an iterative method instead of the default direct (sparse) solver used by\n",
    "FEniCS when calling `solve`. Efficient solution of linear systems\n",
    "arising from the discretization of PDEs requires the choice of both a\n",
    "good iterative (Krylov subspace) method and a good\n",
    "preconditioner. For this problem, we will simply use the biconjugate\n",
    "gradient stabilized method (BiCGSTAB) and the conjugate gradient method. This can be done by adding the\n",
    "keywords `bicgstab` or `cg` in the call to `solve`. You can determine which solvers\n",
    "are available by running the command\n",
    "```\n",
    "list_krylov_solver_methods()\n",
    "```\n",
    "Note that the output may not be displaced in the Jupyter Notebook but will be shown in the terminal where\n",
    "you started Jupyter Notebook."
   ]
  },
  {
   "cell_type": "markdown",
   "metadata": {},
   "source": [
    "We also specify suitable preconditioners to speed up the \n",
    "computations. You can determine which solvers\n",
    "are available by running the command\n",
    "```\n",
    "list_krylov_solver_preconditioners()\n",
    "```\n",
    "\n",
    "For example, we may use `petsc_amg` or `ilu`.\n",
    "```\n",
    "solve(A1, u1.vector(), b1, 'bicgstab', 'petsc_amg')\n",
    "solve(A2, p1.vector(), b2, 'bicgstab', 'petsc_amg')\n",
    "solve(A3, u1.vector(), b3, 'cg', 'sor')\n",
    "```"
   ]
  },
  {
   "cell_type": "markdown",
   "metadata": {},
   "source": [
    "In addition, to be able to postprocess the computed solution in ParaView,\n",
    "we store the solution to a file in each time step. \n",
    "If you have HDF5 installed, you may use the `xdmf` file format, \n",
    "which has a few advantages. First, the storage is\n",
    "much more efficient, both in terms of speed and file sizes. Second,\n",
    "`.xdmf` files work in parallell, both for writing and reading\n",
    "(postprocessing). Much like `.pvd` files, the actual data will not be\n",
    "stored in the `.xdmf` file itself, but will instead be stored in a\n",
    "(single) separate data file with the suffix `.hdf5` which is an\n",
    "advanced file format designed for high-performance computing.\n",
    "However, if HDF5 is not available, we will still use `pvd` files."
   ]
  },
  {
   "cell_type": "code",
   "execution_count": 10,
   "metadata": {
    "collapsed": true
   },
   "outputs": [],
   "source": [
    "if 'HDF5File' in globals():\n",
    "    # Use XDMF files\n",
    "    xdmffile_u = XDMFFile('navier_stokes_cylinder/velocity.xdmf')\n",
    "    xdmffile_p = XDMFFile('navier_stokes_cylinder/pressure.xdmf')\n",
    "else:\n",
    "    vtkfile_u = File('navier_stokes_cylinder/velocity.pvd')\n",
    "    vtkfile_p = File('navier_stokes_cylinder/pressure.pvd')"
   ]
  },
  {
   "cell_type": "markdown",
   "metadata": {},
   "source": [
    "Similarly, we may also store the solution using a FEniCS `TimeSeries`. This allows us\n",
    "to store the solution not for visualization, but for later reuse in a\n",
    "computation as we will see in the next section. Using a `TimeSeries`\n",
    "it is easy and efficient to read in solutions from certain points in\n",
    "time during a simulation. The `TimeSeries` class also uses the HDF5\n",
    "file format for efficient storage and access to data, so we will \n",
    "enable it only if HDF5 is available."
   ]
  },
  {
   "cell_type": "code",
   "execution_count": 11,
   "metadata": {
    "collapsed": true
   },
   "outputs": [],
   "source": [
    "if 'HDF5File' in globals():\n",
    "    # Create time series (for use in reaction_system.py)\n",
    "    timeseries_u = TimeSeries('navier_stokes_cylinder/velocity_series')\n",
    "    timeseries_p = TimeSeries('navier_stokes_cylinder/pressure_series')"
   ]
  },
  {
   "cell_type": "markdown",
   "metadata": {},
   "source": [
    "The following is the complete code for time-stepping. We will print `max(u)` at each step. Please be advised that this example program is considerably more demanding than our previous examples in terms of CPU time and memory, but it should be possible to run the program on a reasonably modern laptop.\n",
    "\n",
    "Note that the progress log may not be displayed inside the Jupyter Notebook but in the terminal where JN was started."
   ]
  },
  {
   "cell_type": "code",
   "execution_count": 12,
   "metadata": {},
   "outputs": [
    {
     "name": "stdout",
     "output_type": "stream",
     "text": [
      "Calling FFC just-in-time (JIT) compiler, this may take some time.\n",
      "Calling FFC just-in-time (JIT) compiler, this may take some time.\n",
      "Calling FFC just-in-time (JIT) compiler, this may take some time.\n",
      "u max: 1.92762010483\n",
      "u max: 2.01520053123\n",
      "u max: 2.22347152812\n",
      "u max: 2.21720346441\n",
      "u max: 2.19623569704\n",
      "u max: 2.17779478429\n",
      "u max: 2.16216516992\n",
      "u max: 2.15205491193\n",
      "u max: 2.14885171706\n",
      "u max: 2.15174188487\n",
      "u max: 2.15719648979\n",
      "u max: 2.15987132177\n",
      "u max: 2.15539813761\n",
      "u max: 2.14362397166\n",
      "u max: 2.1298462418\n",
      "u max: 2.12234017814\n",
      "u max: 2.12691842862\n",
      "u max: 2.14213090558\n",
      "u max: 2.15892963584\n",
      "u max: 2.16571572717\n",
      "u max: 2.15619093737\n",
      "u max: 2.13504630758\n",
      "u max: 2.11711902332\n",
      "u max: 2.1184334594\n",
      "u max: 2.14314658182\n",
      "u max: 2.17741113218\n",
      "u max: 2.19719858855\n",
      "u max: 2.18603504752\n",
      "u max: 2.15038678476\n",
      "u max: 2.13082446614\n",
      "u max: 2.13928040317\n",
      "u max: 2.17309063317\n",
      "u max: 2.22360359133\n",
      "u max: 2.2389764105\n",
      "u max: 2.20471231223\n",
      "u max: 2.14761011222\n",
      "u max: 2.16956636838\n",
      "u max: 2.15418814745\n",
      "u max: 2.21741381849\n",
      "u max: 2.26650722432\n",
      "u max: 2.25707086732\n",
      "u max: 2.19309667928\n",
      "u max: 2.17574477406\n",
      "u max: 2.19118494917\n",
      "u max: 2.18136739773\n",
      "u max: 2.25941686882\n",
      "u max: 2.2931865044\n",
      "u max: 2.25285947733\n",
      "u max: 2.16830516194\n",
      "u max: 2.20324673275\n",
      "u max: 2.19442489366\n",
      "u max: 2.21800039369\n",
      "u max: 2.29249656694\n",
      "u max: 2.299671007\n",
      "u max: 2.23086052242\n",
      "u max: 2.18074015283\n",
      "u max: 2.21663527608\n",
      "u max: 2.18093649966\n",
      "u max: 2.2541591662\n",
      "u max: 2.31168518668\n",
      "u max: 2.28791523367\n",
      "u max: 2.19924424663\n",
      "u max: 2.20413866041\n",
      "u max: 2.21616070757\n",
      "u max: 2.19528719142\n",
      "u max: 2.28464430209\n",
      "u max: 2.3164514034\n",
      "u max: 2.26327156863\n",
      "u max: 2.16607462113\n",
      "u max: 2.21851075243\n",
      "u max: 2.20378767477\n",
      "u max: 2.22982341625\n",
      "u max: 2.30649499312\n",
      "u max: 2.30813665535\n",
      "u max: 2.23097726456\n",
      "u max: 2.18946584119\n",
      "u max: 2.22306074058\n",
      "u max: 2.18187486751\n",
      "u max: 2.26251296061\n",
      "u max: 2.31792556373\n",
      "u max: 2.28865450824\n",
      "u max: 2.19574831098\n",
      "u max: 2.20904714363\n",
      "u max: 2.21751343484\n",
      "u max: 2.2007657204\n",
      "u max: 2.2900122321\n",
      "u max: 2.31804784242\n",
      "u max: 2.26048449981\n",
      "u max: 2.16837498971\n",
      "u max: 2.22078045821\n",
      "u max: 2.2022957774\n",
      "u max: 2.23486705256\n",
      "u max: 2.30950382057\n",
      "u max: 2.30693322457\n",
      "u max: 2.22676873628\n",
      "u max: 2.19282179646\n",
      "u max: 2.22337187192\n",
      "u max: 2.17876422034\n",
      "u max: 2.26677036378\n",
      "u max: 2.31897191745\n"
     ]
    }
   ],
   "source": [
    "import sys\n",
    "\n",
    "out_interval = num_steps / 100;\n",
    "\n",
    "# Time-stepping\n",
    "t = 0\n",
    "for k in range(1,num_steps+1):\n",
    "    # Update current time\n",
    "    t += dt\n",
    "\n",
    "    # Step 1: Tentative velocity step\n",
    "    b1 = assemble(L1)\n",
    "    [bc.apply(b1) for bc in bcu]\n",
    "    solve(A1, u_.vector(), b1, 'bicgstab', 'ilu')\n",
    "\n",
    "    # Step 2: Pressure correction step\n",
    "    b2 = assemble(L2)\n",
    "    [bc.apply(b2) for bc in bcp]\n",
    "    solve(A2, p_.vector(), b2, 'bicgstab', 'ilu')\n",
    "\n",
    "    # Step 3: Velocity correction step\n",
    "    b3 = assemble(L3)\n",
    "    solve(A3, u_.vector(), b3, 'cg', 'sor')\n",
    "\n",
    "    # Plot solution\n",
    "    # plot(u_, title='Velocity')\n",
    "    # plot(p_, title='Pressure')\n",
    "\n",
    "    if k%out_interval ==0 or k==num_steps:\n",
    "        print('u max:', u_.vector().array().max())\n",
    "\n",
    "        # Save solution to files\n",
    "        if 'HDF5File' in globals():\n",
    "            xdmffile_u.write(u_, t)\n",
    "            xdmffile_p.write(p_, t)\n",
    "        else:\n",
    "            vtkfile_u << (u_, t)\n",
    "            vtkfile_p << (p_, t)\n",
    "\n",
    "    # Update previous solution\n",
    "    u_k.assign(u_)\n",
    "    p_k.assign(p_)\n",
    "\n",
    "    # Update progress bar\n",
    "    progress.update(t / T)\n",
    "    \n",
    "interactive()    "
   ]
  },
  {
   "cell_type": "markdown",
   "metadata": {},
   "source": [
    "The following figure shows the velocity and pressure at final time visualized in ParaView. \n",
    "It uses the *Glyph* filter to visualize the vector velocity field."
   ]
  },
  {
   "cell_type": "markdown",
   "metadata": {},
   "source": [
    "<a href=\"https://fenicsproject.org/pub/tutorial/html/mov/navier_stokes_cylinder.ogv\" target=\"_blank\"><img src=\"https://fenicsproject.org/pub/tutorial/html/fig/navier_stokes_cylinder_velocity.png\" alt=\"Movie\" width=\"800\" border=\"10\" /></a>"
   ]
  }
 ],
 "metadata": {
  "kernelspec": {
   "display_name": "Python 3",
   "language": "python",
   "name": "python3"
  },
  "language_info": {
   "codemirror_mode": {
    "name": "ipython",
    "version": 3
   },
   "file_extension": ".py",
   "mimetype": "text/x-python",
   "name": "python",
   "nbconvert_exporter": "python",
   "pygments_lexer": "ipython3",
   "version": "3.6.8"
  },
  "latex_envs": {
   "LaTeX_envs_menu_present": true,
   "autoclose": false,
   "autocomplete": true,
   "bibliofile": "biblio.bib",
   "cite_by": "apalike",
   "current_citInitial": 1,
   "eqLabelWithNumbers": true,
   "eqNumInitial": 1,
   "hotkeys": {
    "equation": "Ctrl-E",
    "itemize": "Ctrl-I"
   },
   "labels_anchors": false,
   "latex_user_defs": false,
   "report_style_numbering": false,
   "user_envs_cfg": false
  }
 },
 "nbformat": 4,
 "nbformat_minor": 2
}
